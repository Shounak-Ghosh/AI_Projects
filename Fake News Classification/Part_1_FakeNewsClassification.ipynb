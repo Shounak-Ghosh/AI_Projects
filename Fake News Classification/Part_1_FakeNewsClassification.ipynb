{
 "cells": [
  {
   "cell_type": "markdown",
   "metadata": {
    "colab_type": "text",
    "id": "ATa2miB-8VIW"
   },
   "source": [
    "# Section 1: Introduction to Fake News Classification\n"
   ]
  },
  {
   "cell_type": "code",
   "execution_count": null,
   "metadata": {
    "colab": {},
    "colab_type": "code",
    "id": "6qPRfrpe8NcU"
   },
   "outputs": [],
   "source": [
    "# Run this to load data \n",
    "import os\n",
    "from bs4 import BeautifulSoup as bs\n",
    "import pickle\n",
    "  \n",
    "import requests\n",
    "import zipfile\n",
    "import io\n",
    "\n",
    "# Download class resources...\n",
    "r = requests.get(\"https://www.dropbox.com/s/2pj07qip0ei09xt/inspirit_fake_news_resources.zip?dl=1\")\n",
    "z = zipfile.ZipFile(io.BytesIO(r.content))\n",
    "z.extractall()\n",
    "\n",
    "basepath = '.'"
   ]
  },
  {
   "cell_type": "markdown",
   "metadata": {
    "colab_type": "text",
    "id": "fj3IADlNGjUg"
   },
   "source": [
    "## Anatomy of a (Fake) News Website\n",
    "\n",
    "Have you ever wondered how websites like *google.com* and *nytimes.com* work under the hood? Using the internet every day, it is easy to forget how magical even the most mundane web browsing experiences are. Consider, for example, this article on the New York Times:\n",
    "\n",
    "![NYTimes Article](https://www.niemanlab.org/images/ochs-nytimes-article-page.png)\n",
    "\n",
    "\n",
    "How does the browser know to show the title of the article near the top of the page? How does it know that the word \"Art & Design\" should be left-centered and gray-colored? How does it know where to find the image to display?\n",
    "\n",
    "All of these questions can be answered by probing through the HTML of a webpage. HTML is a simple markup language that augments text with the structure you'd expect from a webpage. It's the language that provides the structure for every webpage you see. Here's an example of an HTML document for a simple webpage.\n",
    "\n",
    "![HTML Example](http://www.goodellgroup.com/tutorial/wpimages/wpccea2291_05_06.jpg)\n",
    "\n",
    "### HTML in a Nutshell\n",
    "\n",
    "HTML is the standard markup language for creating Web pages.\n",
    "* HTML stands for Hyper Text Markup Language\n",
    "* HTML describes the structure of Web pages using markup\n",
    "* HTML elements are the building blocks of HTML pages\n",
    "* HTML elements are represented by tags\n",
    "* HTML tags label pieces of content such as \"heading\", \"paragraph\", \"table\", and so on\n",
    "* Browsers do not display the HTML tags, but use them to render the content of the page\n",
    "\n",
    "\n"
   ]
  },
  {
   "cell_type": "markdown",
   "metadata": {
    "colab_type": "text",
    "id": "K81dzeKOB8dC"
   },
   "source": [
    "## Problem Statement\n",
    "\n",
    "**Given the URL of a news website and its HTML, can we classify the news website as either fake or real?** "
   ]
  },
  {
   "cell_type": "markdown",
   "metadata": {
    "colab_type": "text",
    "id": "uMvanqjEep6F"
   },
   "source": [
    "## Task 1 | Exploring the Data "
   ]
  },
  {
   "cell_type": "markdown",
   "metadata": {
    "colab_type": "text",
    "id": "kyjlqYG3euBy"
   },
   "source": [
    "### Dataset \n",
    "\n",
    "Load the train and val in the below cell:\n"
   ]
  },
  {
   "cell_type": "code",
   "execution_count": null,
   "metadata": {
    "colab": {
     "base_uri": "https://localhost:8080/",
     "height": 85
    },
    "colab_type": "code",
    "id": "0En5nk5pEc72",
    "outputId": "d9875c22-600d-4729-92cd-18bca75b7677"
   },
   "outputs": [],
   "source": [
    "with open(os.path.join(basepath, 'train_val_data.pkl'), 'rb') as f:\n",
    "    train_data, val_data = pickle.load(f)\n",
    "\n",
    "print('Number of train examples:', len(train_data))\n",
    "print('Number of val examples:', len(val_data))\n",
    "\n",
    "print('Fraction of train examples that are fake:', len([datapoint for datapoint in train_data if datapoint[2] == 0]) / float(len(train_data)))\n",
    "print('Fraction of val examples that are fake:', len([datapoint for datapoint in val_data if datapoint[2] == 0]) / float(len(val_data)))"
   ]
  },
  {
   "cell_type": "markdown",
   "metadata": {
    "colab_type": "text",
    "id": "L4yi_xDAEdTN"
   },
   "source": [
    "We can see that the number of examples for each portion of the data approximately matches the split above, and each portion has roughly 50% fake news websites. Now to explore what each data point looks like. \n",
    "\n",
    "### Changing The Example Index\n",
    "\n",
    "Spend ~15 minutes browsing through the data by changing example_idx below. You are able to see the URL, label (0 is real, 1 is fake), and part of the HTML for an example.\n",
    "\n",
    "Observe that each data point has three values: the URL, the HTML, and the binary (0 or 1) label. A label of \"1\" indicates that the website is a fake news website, and a label of \"0\" indicates that the website does not have fake news. See if you can spot some differences between examples with label 0 and examples with label 1, especially in their URLs! The HTML may be a bit difficult to read, since it is much longer, so don't worry about this."
   ]
  },
  {
   "cell_type": "code",
   "execution_count": null,
   "metadata": {
    "colab": {
     "base_uri": "https://localhost:8080/",
     "height": 1000
    },
    "colab_type": "code",
    "id": "JEi_NJeuIeBf",
    "outputId": "caa28c5e-7f44-4f54-f66e-d8fe9e299b1c"
   },
   "outputs": [],
   "source": [
    "### YOUR CODE HERE ###\n",
    "example_idx = int(input(\"example_idx: \"))\n",
    "### END CODE HERE ###\n",
    "\n",
    "print('Number of values per data point: %d\\n' % len(train_data[0]))\n",
    "\n",
    "print('URL for chosen example:', train_data[example_idx][0])\n",
    "print('Label for chosen example:', train_data[example_idx][2])\n",
    "print('HTML for chosen example (first 5000 chars):\\n\\n', bs(train_data[example_idx][1]).prettify()[:5000])"
   ]
  },
  {
   "cell_type": "markdown",
   "metadata": {
    "colab_type": "text",
    "id": "zhskZJ2BluPs"
   },
   "source": [
    "## Task 3 | Fake vs Real Fraction\n"
   ]
  },
  {
   "cell_type": "markdown",
   "metadata": {
    "colab_type": "text",
    "id": "RT94ahwalvYZ"
   },
   "source": [
    "### Probing Hypotheses\n",
    "\n",
    "Browsing through the examples above, you might have gotten a few ideas for differences between real and fake news websites. For instance, you might have noticed that many fake news websites use domain name extensions other than \".com\", whereas this is less common for real news websites. So a possible hypothesis could be: \n",
    " \n",
    "####Websites with .com extensions are more likely to be real news. \n",
    "\n",
    "\n"
   ]
  },
  {
   "cell_type": "markdown",
   "metadata": {
    "colab_type": "text",
    "id": "C-DCOLYVZCio"
   },
   "source": [
    "### Real Fraction \n",
    "\n",
    "One simple way to quantify our observation would be to see what percentage of websites using a certain extension (.com, .org, etc.) are real. We can call this number the Real Fraction. \n"
   ]
  },
  {
   "cell_type": "markdown",
   "metadata": {
    "colab_type": "text",
    "id": "6qrYAGFaY_ld"
   },
   "source": [
    "###Fake Fraction\n",
    "\n",
    "Likewise, we can find what percentage of websites using a certain extension (.com, .org, etc) are fake. We can call this number the Fake Fraction. "
   ]
  },
  {
   "cell_type": "markdown",
   "metadata": {
    "colab_type": "text",
    "id": "C1RGA1hQn5q3"
   },
   "source": [
    "### Fake/ Real Ratio\n",
    "\n",
    "How do we use the Fake Fraction and Real Fraction to test our hypothesis ? We could divide them to form a ratio, which we can call the Fake vs Real Ratio. \n",
    " \n",
    "For the .com extension, the Fake vs Real Ratio would be as follows. \n",
    " \n",
    "#### (.com) Fake vs  Real Ratio = Fraction of Fake Sites w/ (.com) / Fraction of Real Sites w/ (.com) \n",
    "\n"
   ]
  },
  {
   "cell_type": "markdown",
   "metadata": {
    "colab_type": "text",
    "id": "TflU0c-puxNo"
   },
   "source": [
    "###Interpreting Ratios \n",
    "\n",
    "* If the ratio is less than 1, then we have reason to believe that real news websites disproportionately use \".com\" extensions, \n",
    "* If the ratio is greater than 1, then we have reason to believe that fake news websites disproportionately use \".com\" extensions, \n",
    "* If the ratio is 1, then both fake and real news websites use the .com extension about the same. This means that our hypothesis isn't very useful for separating out real and fake news websites, at least not by itself."
   ]
  },
  {
   "cell_type": "markdown",
   "metadata": {
    "colab_type": "text",
    "id": "6tEIBfLXFxNn"
   },
   "source": [
    "\n",
    "### Test in Code\n",
    "\n",
    "We define a function below that returns the real and fake fractions of the training data that satisfy a hypothesis. In our code, our hypotheses will just be simple functions that take in a single data point and return \"True\" or \"False\". \n",
    "\n",
    "\n",
    "Finish the below function that computes the real and fake fractions, as described above. For each datapoint, you want to compute whether the hypothesis is true, and use this along with label to update *real_true*, *real_total*, *fake_true*, *fake_total*."
   ]
  },
  {
   "cell_type": "code",
   "execution_count": null,
   "metadata": {
    "colab": {},
    "colab_type": "code",
    "id": "sXlQXdtwKHJD"
   },
   "outputs": [],
   "source": [
    "def get_real_and_fake_fractions(train_data, hypothesis):\n",
    "    # Label 0, hypothesis true\n",
    "    real_true = 0.0\n",
    "    # Label 0 total\n",
    "    real_total = 0.0\n",
    "    # Label 1, hypothesis true\n",
    "    fake_true = 0.0\n",
    "    # Label 1 total\n",
    "    fake_total = 0.0\n",
    "    \n",
    "    for datapoint in train_data:\n",
    "        # Each datapoint has URL, HTML, label in that order.\n",
    "        label = datapoint[2]\n",
    "        hypothesis_truth = hypothesis(datapoint)\n",
    "        \n",
    "        if (label == 1):\n",
    "            fake_total += 1\n",
    "        if(hypothesis_truth):\n",
    "            fake_true += 1\n",
    "        else:\n",
    "            real_total += 1\n",
    "        if(hypothesis_truth):\n",
    "            real_true += 1\n",
    "            \n",
    "    return real_true / real_total, fake_true / fake_total"
   ]
  },
  {
   "cell_type": "markdown",
   "metadata": {
    "colab_type": "text",
    "id": "NrFNz_XAM_0r"
   },
   "source": [
    "Now, play around with this demonstration that asks you for a domain name extension, and prints out the real fraction, the fake fraction, and the ratio of fake fraction to real fraction. Make sure you understand what the code is doing! After running initially, try other values, like \".org\", \".co.uk\", and \".edu\"! The printed values will update automatically. Note that in some cases, the ratio may be \"Infinity\", if no real websites in the training data have that domain name."
   ]
  },
  {
   "cell_type": "code",
   "execution_count": null,
   "metadata": {
    "colab": {
     "base_uri": "https://localhost:8080/",
     "height": 68
    },
    "colab_type": "code",
    "id": "Mfim5xsSNYAP",
    "outputId": "b3c8e657-eb39-4e1c-eb6e-18af52240c0a"
   },
   "outputs": [],
   "source": [
    "#@title Run this cell with your hypothesis domain name extension { run: \"auto\" }\n",
    "\n",
    "def domain_extension_hypothesis(datapoint):\n",
    "    extension = input(\"Enter domain extension: \")\n",
    "    url = datapoint[0]\n",
    "    return url.endswith(extension)\n",
    "  \n",
    "real_fraction, fake_fraction = get_real_and_fake_fractions(train_data, \n",
    "                                                           domain_extension_hypothesis)\n",
    "\n",
    "print('Real fraction:', real_fraction)\n",
    "print('Fake fraction:', fake_fraction)\n",
    "\n",
    "# Simple logic for making the printed ratio more interpretable.\n",
    "def pretty_ratio(fake_fraction, real_fraction):\n",
    "    ratio = (fake_fraction / real_fraction) if real_fraction > 0 else 'Infinity'\n",
    "    if fake_fraction == real_fraction:\n",
    "        ratio = 1\n",
    "    return ratio\n",
    "  \n",
    "print('Ratio fraction:', pretty_ratio(fake_fraction, real_fraction))"
   ]
  },
  {
   "cell_type": "markdown",
   "metadata": {
    "colab_type": "text",
    "id": "7gjwYNlEzBOW"
   },
   "source": [
    "## Task 5: Determine Word Frequency Method \n"
   ]
  },
  {
   "cell_type": "markdown",
   "metadata": {
    "colab_type": "text",
    "id": "fI-Po2v3nHN3"
   },
   "source": [
    "One natural idea is counting whether the frequency of words in the HTML of a webpage is above a certain threshold. For example, given the word \"Clinton\" and a threshold of 3, does nytimes.com mention \"Clinton\" 3 times? Does infowars.com? This may tell us something about how useful the word \"Clinton\" is for telling us whether a website is fake or not.\n",
    "\n",
    "\n",
    "### Test in Code\n",
    "\n",
    "Now, code up the below hypothesis function that tests whether the count of a provided word is above a threshold and play with the resulting demo (~15 minutes). We have provided some starter code for you."
   ]
  },
  {
   "cell_type": "code",
   "execution_count": null,
   "metadata": {
    "colab": {
     "base_uri": "https://localhost:8080/",
     "height": 68
    },
    "colab_type": "code",
    "id": "9dql1CTlnHN3",
    "outputId": "a2bcbf22-0a59-4c29-b22c-51e9a9fe7c1b"
   },
   "outputs": [],
   "source": [
    "#@title Run this cell with a word and a threshold { run: \"auto\" }\n",
    "\n",
    "def get_count_from_html(html, hypothesis_word):\n",
    "    # Transform word to lowercase for consistent results.\n",
    "    return html.count(hypothesis_word.lower())\n",
    "\n",
    "def word_threshold_hypothesis(datapoint):\n",
    "    hypothesis_word = \"stocks\" #@param {type:\"string\"}\n",
    "    threshold =  2#@param {type:\"integer\"}\n",
    "    # Transform HTML to lowercase for consistent results.\n",
    "    html = datapoint[1].lower() \n",
    "    ### YOUR CODE HERE ### (Use get_count_from_html!)\n",
    "    word_count = get_count_from_html(html,hypothesis_word)\n",
    "    return word_count >= threshold\n",
    "    ### END CODE HERE ###\n",
    "    \n",
    "real_fraction, fake_fraction = get_real_and_fake_fractions(train_data, \n",
    "                                                           word_threshold_hypothesis)\n",
    "\n",
    "print('Real fraction:', real_fraction)\n",
    "print('Fake fraction:', fake_fraction)\n",
    "  \n",
    "print('Ratio fraction:', pretty_ratio(fake_fraction, real_fraction))"
   ]
  },
  {
   "cell_type": "markdown",
   "metadata": {
    "colab_type": "text",
    "id": "ypCqOW89OsY-"
   },
   "source": [
    "## Task 6:  Hypothesize\n",
    "\n"
   ]
  },
  {
   "cell_type": "markdown",
   "metadata": {
    "colab_type": "text",
    "id": "3jk2-pWo6JFY"
   },
   "source": [
    "Once you have \"Clinton\" working with a threshold of 3, try other words, like \"Trump\", \"Obama\", \"Sports\", \"Finance\", and \"Opinion\". \n",
    "\n",
    "Discuss three interesting hypothesis word and threshold combination, with an explanation for why you think it is happening.\n",
    "\n",
    "Be prepared to share with the class! "
   ]
  },
  {
   "cell_type": "markdown",
   "metadata": {
    "colab_type": "text",
    "id": "bgUhzQR55GqV"
   },
   "source": [
    "## Task 7 | Custom Hypothesis\n"
   ]
  },
  {
   "cell_type": "markdown",
   "metadata": {
    "colab_type": "text",
    "id": "HNptThcx5IOw"
   },
   "source": [
    "Now, create your own custom hypotheses! All you should change is the hypothesis function (~20 minutes). \n",
    "\n",
    "Some ideas: \n",
    "* check whether websites contain certain HTML tags (e.g. \"\\<table>, \\<section>\"), \n",
    "* check whether websites contain certain words or phrases in the URL, \n",
    "* check whether websites are Wordpress blogs (hint: check whether they contain \"wp-content\" frequently)."
   ]
  },
  {
   "cell_type": "code",
   "execution_count": null,
   "metadata": {
    "colab": {
     "base_uri": "https://localhost:8080/",
     "height": 68
    },
    "colab_type": "code",
    "id": "Y02Bmix5O8Ph",
    "outputId": "b66ede56-8685-47dd-da63-2c1dcbb39cef"
   },
   "outputs": [],
   "source": [
    "### YOUR CODE HERE ###\n",
    "# hypothesis ideas\n",
    "# check word count of heading\n",
    "# article has four or more images\n",
    "# if it is close to a credible source\n",
    "# large number of exlamation marks\n",
    "# use of pronouns\n",
    "\n",
    "def get_count_from_url(url, hypothesis_word):\n",
    "    url_list = url.split(\".\")\n",
    "  #print(url_list)\n",
    "  return url_list.count(hypothesis_word.lower())\n",
    "\n",
    "def word_threshold_hypothesis(datapoint):\n",
    "    hypothesis_word = \"com\" #@param {type:\"string\"}\n",
    "    threshold =  1#@param {type:\"integer\"}\n",
    "    # Transform url to lowercase for consistent results.\n",
    "    url = datapoint[0].lower() \n",
    "    ### YOUR CODE HERE ### (Use get_count_from_html!)\n",
    "    word_count = get_count_from_url(url,hypothesis_word)\n",
    "    return word_count >= threshold\n",
    "    ### END CODE HERE ###\n",
    "\n",
    "    real_fraction, fake_fraction = get_real_and_fake_fractions(train_data, \n",
    "                                                           word_threshold_hypothesis)\n",
    "\n",
    "print('Real fraction:', real_fraction)\n",
    "print('Fake fraction:', fake_fraction)\n",
    "  \n",
    "print('Ratio fraction:', pretty_ratio(fake_fraction, real_fraction))\n",
    "\n",
    "### END CODE HERE ###"
   ]
  },
  {
   "cell_type": "markdown",
   "metadata": {
    "colab_type": "text",
    "id": "OJsHZUqBPBOY"
   },
   "source": [
    "Once you are done, list your most interesting hypotheses below and prepare to discuss with the class!\n",
    "\n",
    "Congratulations on completing this notebook! Tomorrow, we'll use the insights you just built up to build our baseline model."
   ]
  }
 ],
 "metadata": {
  "colab": {
   "collapsed_sections": [],
   "name": "22shounakg_Section_1_FakeNews.ipynb",
   "provenance": []
  },
  "kernelspec": {
   "display_name": "Python 3",
   "language": "python",
   "name": "python3"
  },
  "language_info": {
   "codemirror_mode": {
    "name": "ipython",
    "version": 3
   },
   "file_extension": ".py",
   "mimetype": "text/x-python",
   "name": "python",
   "nbconvert_exporter": "python",
   "pygments_lexer": "ipython3",
   "version": "3.7.1"
  }
 },
 "nbformat": 4,
 "nbformat_minor": 1
}
