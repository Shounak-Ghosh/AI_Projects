{
 "cells": [
  {
   "cell_type": "markdown",
   "metadata": {
    "colab_type": "text",
    "id": "eN6PSgaoEPr9"
   },
   "source": [
    "# Breast Cancer Biopsy Classification\n"
   ]
  },
  {
   "cell_type": "markdown",
   "metadata": {
    "colab_type": "text",
    "id": "HP9U_AO8stAq"
   },
   "source": [
    "### Introduction to Breast Cancer Biopsy Classification\n",
    "\n",
    "Breast cancer tumors are very complicated at the cellular level, and this makes determining whether a patient's tumor is malignant (dangerous) or benign (not dangerous) a challenge. \n",
    "\n",
    "Every patient that arrives at the hospital undergoes a biopsy of their tumor. This means that a small sample of the tumor is taken from the patient and various metrics are recorded about it, including: radius, texture, perimeter, area, smoothness, compactness, concavity, concave points, symmetry, and fractal dimension. \n",
    "\n",
    "Using a large dataset of labeled biospy samples from breast cancer tumors, we will build a binary classification model to determine whether a tumor is malignant or benign based on these features. Then, this model can help us to better determine diagnoses for new patients who arrive at the hospital.\n"
   ]
  },
  {
   "cell_type": "markdown",
   "metadata": {
    "colab_type": "text",
    "id": "CwIq3r8RENiw"
   },
   "source": [
    "\n",
    "\n",
    "#### 1. Background and data exploration\n",
    "\n",
    "- Task 1 (exploring the data)\n",
    "\n",
    "#### 2. Simple boundary classifier\n",
    "\n",
    "- Task 2 (separating on a boundary)\n",
    "- Task 3 (precision, recall, accuracy)\n",
    "\n",
    "#### 3. Modifying with logistic regression\n",
    "\n",
    "- Task 4 (single feature logistic regression)\n",
    "- Task 5 (multiple feature logistic regression)\n",
    "\n",
    "#### 4. Decision trees \n",
    "\n"
   ]
  },
  {
   "cell_type": "markdown",
   "metadata": {
    "colab_type": "text",
    "id": "t5WlU9mlAtTt"
   },
   "source": [
    "# Background and data exploration"
   ]
  },
  {
   "cell_type": "markdown",
   "metadata": {
    "colab_type": "text",
    "id": "gOTZCNwKs8Bc"
   },
   "source": [
    "## Diagnosing cancer with biopsies\n"
   ]
  },
  {
   "cell_type": "markdown",
   "metadata": {
    "colab_type": "text",
    "id": "ei8za5s3tVw8"
   },
   "source": [
    "Before we dive into building a classifier for breast cancer tumors, it's important to understand how the data are generated and gain intuition for what the various features mean.\n",
    "\n",
    "![alt text](https://www.rxdatascience.com/hubfs/Raj%20Files/es1.jpg)\n",
    "\n",
    "The above image is an example of cancerous (malignant) breast cells next to benign cells. These cells were removed as part of a biopsy of a tumor from a patient in which a small amount of fluid/tissue from the tumor is sampled with a special needle. Then, the cells in this sample are strained with different dyes to visualize their shapes, how much DNA they have, etc. All these properties can help to give hints as to whether cells are rapidly dividing cancer cells or not. \n",
    "\n",
    "Our dataset reports 10 different features of the biopsies. Here's what each means:\n",
    "\n",
    "1. $Radius$: Average distance from the center of the cell's nucleus to its perimeter.\n",
    "2. $Perimeter$: Total distance between points defining the cell's nuclear perimeter.\n",
    "3. $Area$: Nuclear area is measured by counting the number of pixels on the interior of the nucleus and adding one-half of the pixels in the perimeter.\n",
    "\n",
    "The following image should give a visual to what these cell nucleus features look like: \n",
    "\n",
    "![perimeter](https://drive.google.com/uc?export=view&id=1-U43OAojYbMY9gIlpvLHPNr3V2saqqHJ)\n",
    "\n",
    "4. $Compactness$: Calculated as the compactness of the cell nuclei using the\n",
    "formula $perimeter^2/area$\n",
    "5. $Smoothness$: Measures the smoothness of a nuclear contour by measuring the difference between the length of a radial line and the mean length of the lines surrounding it. The image below demonstrates this:\n",
    "\n",
    "![alt text](https://drive.google.com/uc?export=view&id=10GokzG7KDKxClJwHPIuIcr3ivvWGRetY)\n",
    "\n",
    "\n",
    "The paper that first detailed these measurements for this dataset can be found here for more information: https://pdfs.semanticscholar.org/1c4a/4db612212a9d3806a848854d20da9ddd0504.pdf \n"
   ]
  },
  {
   "cell_type": "markdown",
   "metadata": {
    "colab_type": "text",
    "id": "dYeVd9eptE31"
   },
   "source": [
    "## Breast cancer diagnostic dataset\n",
    "\n",
    "The dataset we will use to train our model is called the Breast Cancer Wisconsin (Diagnostic) Data Set. It consists of 569 biopsy samples, just like the ones described above, from breast cancer tumors. \n",
    "\n",
    "Each biopsy sample in the dataset is labeled with an ID number and whether or not the tumor it came from is malignant (M) or benign (B). Each sample also has 10 different features associated with it, some of which are described above. Remember that each feature value for a given biopsy sample is a real-valued number.\n",
    "\n"
   ]
  },
  {
   "cell_type": "code",
   "execution_count": 3,
   "metadata": {
    "colab": {},
    "colab_type": "code",
    "id": "zTLBQUJZJpEU"
   },
   "outputs": [],
   "source": [
    "import pandas as pd\n",
    "from sklearn import metrics\n",
    "#gdown.download('https://drive.google.com/uc?id=1grV8hSxULsGvnbwEMPjPaknccfIOlcoB','cancer_data.csv',True);\n",
    "data = pd.read_csv('/Users/shounakg/Desktop/cancer.csv')\n",
    "data['diagnosis'].replace({'M':1, 'B':0}, inplace = True)\n",
    "data.to_csv('cancer_data.csv')\n",
    "del data"
   ]
  },
  {
   "cell_type": "markdown",
   "metadata": {
    "colab_type": "text",
    "id": "LSpUGH4NvaUk"
   },
   "source": [
    "## Loading our annotated dataset\n",
    "\n",
    "The first step in building our breast cancer tumor classification model is to load in the dataset we'll use to \"teach\" (or \"train\") our model."
   ]
  },
  {
   "cell_type": "code",
   "execution_count": 4,
   "metadata": {
    "colab": {},
    "colab_type": "code",
    "id": "LmyUG5GrvdPf"
   },
   "outputs": [],
   "source": [
    "# First, import helpful Python tools for loading/navigating data\n",
    "import os             # Good for navigating your computer's files \n",
    "import numpy as np    # Great for lists (arrays) of numbers\n",
    "import pandas as pd   # Great for tables (google spreadsheets, microsoft excel, csv)"
   ]
  },
  {
   "cell_type": "code",
   "execution_count": 5,
   "metadata": {
    "colab": {},
    "colab_type": "code",
    "id": "5Cu2tGYpv5AZ"
   },
   "outputs": [],
   "source": [
    "data_path  = 'cancer_data.csv'"
   ]
  },
  {
   "cell_type": "code",
   "execution_count": 6,
   "metadata": {
    "colab": {},
    "colab_type": "code",
    "id": "TE3BWCCJv8TZ"
   },
   "outputs": [],
   "source": [
    "# Use the 'pd.read_csv('file')' function to read in read our data and store it in a variable called 'dataframe'\n",
    "dataframe = pd.read_csv(data_path)"
   ]
  },
  {
   "cell_type": "markdown",
   "metadata": {
    "colab_type": "text",
    "id": "YKx4euGqwHpS"
   },
   "source": [
    " ## Looking at our dataset\n",
    " \n",
    " #### Task 1\n",
    " \n",
    " A key step in machine learning is to view the structure and dimensions of our new dataframe, which stores all our training data from the tumor biopsies. We want to confirm that the size of our table is correct, check out the features present, and get a more visual sense of what it looks like overall."
   ]
  },
  {
   "cell_type": "code",
   "execution_count": 7,
   "metadata": {
    "colab": {},
    "colab_type": "code",
    "id": "eUBEd-10v-Ro"
   },
   "outputs": [],
   "source": [
    "# Let's look at just a few of the biopsy sample features to start by subsetting our 'dataframe'\n",
    "dataframe = dataframe[['diagnosis','radius_mean','area_mean', 'radius_se', 'area_se', 'smoothness_mean','smoothness_se']]"
   ]
  },
  {
   "cell_type": "markdown",
   "metadata": {
    "colab_type": "text",
    "id": "44xNblKYVRHh"
   },
   "source": [
    "You can think of dataframes like Google or Microsoft Excel spreadsheets (large tables with row/column headers) \n",
    "\n",
    "**Use the 'head()' method to show the first five rows of the table and their corresponding column headers (our 7 biopsy features!)**"
   ]
  },
  {
   "cell_type": "code",
   "execution_count": 8,
   "metadata": {
    "colab": {
     "base_uri": "https://localhost:8080/",
     "height": 204
    },
    "colab_type": "code",
    "id": "sKRxaP1qweIz",
    "outputId": "ea5f9ff8-1247-4e1a-d022-cf5a3468a7fc",
    "scrolled": true
   },
   "outputs": [
    {
     "data": {
      "text/html": [
       "<div>\n",
       "<style scoped>\n",
       "    .dataframe tbody tr th:only-of-type {\n",
       "        vertical-align: middle;\n",
       "    }\n",
       "\n",
       "    .dataframe tbody tr th {\n",
       "        vertical-align: top;\n",
       "    }\n",
       "\n",
       "    .dataframe thead th {\n",
       "        text-align: right;\n",
       "    }\n",
       "</style>\n",
       "<table border=\"1\" class=\"dataframe\">\n",
       "  <thead>\n",
       "    <tr style=\"text-align: right;\">\n",
       "      <th></th>\n",
       "      <th>diagnosis</th>\n",
       "      <th>radius_mean</th>\n",
       "      <th>area_mean</th>\n",
       "      <th>radius_se</th>\n",
       "      <th>area_se</th>\n",
       "      <th>smoothness_mean</th>\n",
       "      <th>smoothness_se</th>\n",
       "    </tr>\n",
       "  </thead>\n",
       "  <tbody>\n",
       "    <tr>\n",
       "      <th>0</th>\n",
       "      <td>1</td>\n",
       "      <td>17.99</td>\n",
       "      <td>1001.0</td>\n",
       "      <td>1.0950</td>\n",
       "      <td>153.40</td>\n",
       "      <td>0.11840</td>\n",
       "      <td>0.006399</td>\n",
       "    </tr>\n",
       "    <tr>\n",
       "      <th>1</th>\n",
       "      <td>1</td>\n",
       "      <td>20.57</td>\n",
       "      <td>1326.0</td>\n",
       "      <td>0.5435</td>\n",
       "      <td>74.08</td>\n",
       "      <td>0.08474</td>\n",
       "      <td>0.005225</td>\n",
       "    </tr>\n",
       "    <tr>\n",
       "      <th>2</th>\n",
       "      <td>1</td>\n",
       "      <td>19.69</td>\n",
       "      <td>1203.0</td>\n",
       "      <td>0.7456</td>\n",
       "      <td>94.03</td>\n",
       "      <td>0.10960</td>\n",
       "      <td>0.006150</td>\n",
       "    </tr>\n",
       "    <tr>\n",
       "      <th>3</th>\n",
       "      <td>1</td>\n",
       "      <td>11.42</td>\n",
       "      <td>386.1</td>\n",
       "      <td>0.4956</td>\n",
       "      <td>27.23</td>\n",
       "      <td>0.14250</td>\n",
       "      <td>0.009110</td>\n",
       "    </tr>\n",
       "    <tr>\n",
       "      <th>4</th>\n",
       "      <td>1</td>\n",
       "      <td>20.29</td>\n",
       "      <td>1297.0</td>\n",
       "      <td>0.7572</td>\n",
       "      <td>94.44</td>\n",
       "      <td>0.10030</td>\n",
       "      <td>0.011490</td>\n",
       "    </tr>\n",
       "  </tbody>\n",
       "</table>\n",
       "</div>"
      ],
      "text/plain": [
       "   diagnosis  radius_mean  area_mean  radius_se  area_se  smoothness_mean  \\\n",
       "0          1        17.99     1001.0     1.0950   153.40          0.11840   \n",
       "1          1        20.57     1326.0     0.5435    74.08          0.08474   \n",
       "2          1        19.69     1203.0     0.7456    94.03          0.10960   \n",
       "3          1        11.42      386.1     0.4956    27.23          0.14250   \n",
       "4          1        20.29     1297.0     0.7572    94.44          0.10030   \n",
       "\n",
       "   smoothness_se  \n",
       "0       0.006399  \n",
       "1       0.005225  \n",
       "2       0.006150  \n",
       "3       0.009110  \n",
       "4       0.011490  "
      ]
     },
     "execution_count": 8,
     "metadata": {},
     "output_type": "execute_result"
    }
   ],
   "source": [
    "dataframe.head()"
   ]
  },
  {
   "cell_type": "markdown",
   "metadata": {
    "colab_type": "text",
    "id": "tilXEPhVwkjk"
   },
   "source": [
    "The documentation below outlines what each feature column means. Specifically:\n",
    "\n",
    "* $diagnosis$: Whether or not the tumor was diagnosed as malignant (M) or benign (B).\n",
    "* $radius$_$mean$: The radius data feature, averaged across cells in that particular biopsy\n",
    "* $area$_$mean$: The area data feature, averaged across cells in that particular biopsy\n",
    "* $radius$_$se$: The standard error of the radius data feature for cells in that particular biopsy\n",
    "* $area$_$se$: The standard error of the area data feature for cells in that particular biopsy\n",
    "* $smoothness$_$mean$: The smoothness feature, averaged across cells in that particular biopsy\n",
    "* $smoothness$_$se$: The standard error of the smoothness data feature for cells in that particular biopsy\n",
    "\n",
    "Recall that the term mean refers to taking an average (summing the values for each cell and dividing by the total number of cells observed in that biopsy). Additionally, standarded error gives a sense of the standard deviation (how much variance there is between cells in that biopsy for that feature). "
   ]
  },
  {
   "cell_type": "code",
   "execution_count": 9,
   "metadata": {
    "colab": {},
    "colab_type": "code",
    "id": "0-SoD9EQw5Ie"
   },
   "outputs": [
    {
     "name": "stdout",
     "output_type": "stream",
     "text": [
      "<class 'pandas.core.frame.DataFrame'>\n",
      "RangeIndex: 569 entries, 0 to 568\n",
      "Data columns (total 7 columns):\n",
      "diagnosis          569 non-null int64\n",
      "radius_mean        569 non-null float64\n",
      "area_mean          569 non-null float64\n",
      "radius_se          569 non-null float64\n",
      "area_se            569 non-null float64\n",
      "smoothness_mean    569 non-null float64\n",
      "smoothness_se      569 non-null float64\n",
      "dtypes: float64(6), int64(1)\n",
      "memory usage: 31.2 KB\n"
     ]
    }
   ],
   "source": [
    "# Next, we'll use the 'info' method to see the data types of each column\n",
    "dataframe.info()"
   ]
  },
  {
   "cell_type": "markdown",
   "metadata": {
    "colab_type": "text",
    "id": "ZOflJPi5uF5h"
   },
   "source": [
    "# Simple boundary classifier\n",
    "\n",
    "We have gotten a sense of the dataset we will use to train our classification model. Our approach will be to first start simple -- let's look at just one feature of the data samples and see how well its value predicts M vs. B for our labeled dataset. "
   ]
  },
  {
   "cell_type": "markdown",
   "metadata": {
    "colab_type": "text",
    "id": "Wj5Tyew6uL8q"
   },
   "source": [
    "## Can mean radius predict diagnosis?"
   ]
  },
  {
   "cell_type": "code",
   "execution_count": 10,
   "metadata": {
    "colab": {
     "base_uri": "https://localhost:8080/",
     "height": 71
    },
    "colab_type": "code",
    "id": "LP0-9c4VxsJ7",
    "outputId": "2ec74856-d98f-480c-e35e-9b1283d4ab33"
   },
   "outputs": [],
   "source": [
    "# First, we'll import some handy data visualization tools\n",
    "import seaborn as sns\n",
    "import matplotlib.pyplot as plt "
   ]
  },
  {
   "cell_type": "code",
   "execution_count": 11,
   "metadata": {
    "colab": {
     "base_uri": "https://localhost:8080/",
     "height": 386
    },
    "colab_type": "code",
    "id": "IULVFMLhyLwN",
    "outputId": "e1bb9146-662a-4694-dce3-feb42d7cbf24"
   },
   "outputs": [
    {
     "data": {
      "text/plain": [
       "<seaborn.axisgrid.FacetGrid at 0x1a1fa26f98>"
      ]
     },
     "execution_count": 11,
     "metadata": {},
     "output_type": "execute_result"
    },
    {
     "data": {
      "image/png": "[encoded data removed]",
      "text/plain": [
       "<Figure size 360x360 with 1 Axes>"
      ]
     },
     "metadata": {
      "needs_background": "light"
     },
     "output_type": "display_data"
    }
   ],
   "source": [
    "# To see how well mean radius correlates with diagnosis, we'll plot the data\n",
    "# separated based on diagnosis category on the x-axis and have the points' y-value\n",
    "# be its mean radius value\n",
    "\n",
    "sns.catplot(x = 'diagnosis', y = 'radius_mean', data = dataframe)"
   ]
  },
  {
   "cell_type": "markdown",
   "metadata": {
    "colab_type": "text",
    "id": "sFG1rBi8zq0n"
   },
   "source": [
    "## Classification is just drawing boundaries!\n",
    "Next, we might want to check just how well mean radius can be used to classify, or separate, the datapoints in either category\n",
    "Let's pick a boundary value for the radius mean and see how well it separates the data"
   ]
  },
  {
   "cell_type": "code",
   "execution_count": 12,
   "metadata": {
    "colab": {
     "base_uri": "https://localhost:8080/",
     "height": 297
    },
    "colab_type": "code",
    "id": "1oYBTJsvyaC6",
    "outputId": "138f04d8-31db-4f2a-ba0d-c83c5d848070"
   },
   "outputs": [
    {
     "data": {
      "text/plain": [
       "[<matplotlib.lines.Line2D at 0x1a1fddf4e0>]"
      ]
     },
     "execution_count": 12,
     "metadata": {},
     "output_type": "execute_result"
    },
    {
     "data": {
      "image/png": "[encoded data removed]",
      "text/plain": [
       "<Figure size 432x288 with 1 Axes>"
      ]
     },
     "metadata": {
      "needs_background": "light"
     },
     "output_type": "display_data"
    }
   ],
   "source": [
    "boundary = 10\n",
    "sns.scatterplot(x = 'radius_mean', y = 'diagnosis', data = dataframe)\n",
    "plt.plot([boundary, boundary], [0, 1], 'g', linewidth = 6)"
   ]
  },
  {
   "cell_type": "markdown",
   "metadata": {
    "colab_type": "text",
    "id": "6ZmcQ_vGWZnR"
   },
   "source": [
    "Using a boundary value, we can build a boundary classifier function. This function will take in a boundary value of our choosing and then classify the data points based on whether or not they are above or below the boundary.\n",
    "\n",
    "#### Building the boundary classifier\n",
    "\n",
    "Here we build the function that takes in a target boundary (value of radius mean). Write a function to implement a boundary classifier. Think about what the return 'type' of this classifier might be. The parameter target_boundary refers to the boundary value, and x is a pandas Series data type object (a labeled 1D array).\n",
    "\n",
    "\n",
    "\n"
   ]
  },
  {
   "cell_type": "markdown",
   "metadata": {
    "colab_type": "text",
    "id": "kBttJRoNYYdJ"
   },
   "source": [
    "The code below chooses a boundary and runs it for us. "
   ]
  },
  {
   "cell_type": "code",
   "execution_count": 13,
   "metadata": {},
   "outputs": [],
   "source": [
    "def boundary_classifier(target_boundary, x):\n",
    "    result = []\n",
    "    for i in x:\n",
    "        if i > target_boundary:\n",
    "            result.append(1)\n",
    "        else:\n",
    "            result.append(0)\n",
    "    return result"
   ]
  },
  {
   "cell_type": "code",
   "execution_count": 14,
   "metadata": {
    "colab": {
     "base_uri": "https://localhost:8080/",
     "height": 297
    },
    "colab_type": "code",
    "id": "0PiRMX-xKjiA",
    "outputId": "0ee7bb10-1699-42be-907e-1e7fc5082e10"
   },
   "outputs": [
    {
     "data": {
      "text/plain": [
       "[<matplotlib.lines.Line2D at 0x1a1fddfb38>]"
      ]
     },
     "execution_count": 14,
     "metadata": {},
     "output_type": "execute_result"
    },
    {
     "data": {
      "image/png": "[encoded data removed]",
      "text/plain": [
       "<Figure size 432x288 with 1 Axes>"
      ]
     },
     "metadata": {
      "needs_background": "light"
     },
     "output_type": "display_data"
    }
   ],
   "source": [
    "chosen_boundary = 15\n",
    "y_pred = boundary_classifier(chosen_boundary, dataframe['radius_mean'])\n",
    "dataframe['predicted'] = y_pred\n",
    "y_true = dataframe['diagnosis']\n",
    "sns.scatterplot(x = 'radius_mean', y = 'diagnosis', hue = 'predicted', data = dataframe)\n",
    "plt.plot([chosen_boundary, chosen_boundary], [0, 1], 'g', linewidth = 6)\n"
   ]
  },
  {
   "cell_type": "code",
   "execution_count": 15,
   "metadata": {
    "colab": {},
    "colab_type": "code",
    "id": "Ro6toAITfrp1"
   },
   "outputs": [
    {
     "data": {
      "text/plain": [
       "0.8892794376098418"
      ]
     },
     "execution_count": 15,
     "metadata": {},
     "output_type": "execute_result"
    }
   ],
   "source": [
    "accuracy = metrics.accuracy_score(y_true,y_pred)\n",
    "accuracy"
   ]
  },
  {
   "cell_type": "markdown",
   "metadata": {
    "colab_type": "text",
    "id": "DJdMjjFHMA22"
   },
   "source": [
    "## What makes a separation good?\n"
   ]
  },
  {
   "cell_type": "markdown",
   "metadata": {
    "colab_type": "text",
    "id": "YwOdbfoiL9pz"
   },
   "source": [
    "\n",
    "From exploring different boundary values for the radius mean feature, we can see that depending on which value is chosen, the data points are classified slighly differently. This brings up the question of how we can evaluate how good a classification is. \n",
    "\n",
    "Often, we do this by looking at the rates of true positives/true negatives/false positives/false negatives. Let's define these important terms:\n",
    "\n",
    "**True positive rate (TPR)**: Sometimes called sensitvity, the TPR is the proportion of actual positives that are correctly identified as such. An analogy would be the percentage of sick people who are correctly identified as having the disease in some population.\n",
    "\n",
    "**True negative rate (TNR)**: Sometimes called specificity, the TNR is the proportion of actual negatives that are correctly identified as such. An analogy would be the the percentage of healthy people who are correctly identified as not having the disease in some population.\n",
    "\n",
    "**False positive rate (FPR)**: The FPR is the proportion of actual negatives that are incorrectly identified as positives. An analogy would be the percentage of healthy people who are incorrectly identified as having the disease.\n",
    "\n",
    "**False negative rate (FNR)**: The FPR is the proportion of actual positives that are incorrectly identified as negatives. An analogy would be the percentage of sick people who are incorrectly identified as healthy.\n",
    "\n",
    "A key insight is that there is a tradeoff when trying to reduce the different types of errors. For instance, if we want to increase our TPR (thus decrease our FNR by correctly identifying more sick people), our improvements will have to increase the number of people we guess to be sick. However, such an improvement will decrease our TNR (thus inrease our FPR by guessing more healty people are sick). \n",
    "\n",
    "Sometimes, one type of error is worse than the others for a given problem. Other times, however, we must strike an acceptable balance between the two."
   ]
  },
  {
   "cell_type": "markdown",
   "metadata": {
    "colab_type": "text",
    "id": "Koc7oPy8AASf"
   },
   "source": [
    "![alt text](https://drive.google.com/uc?export=view&id=1S4S2MBM86D74C-Q0aPPwHzbU8iUveLKq)"
   ]
  },
  {
   "cell_type": "markdown",
   "metadata": {
    "colab_type": "text",
    "id": "NzGO09WH5i2l"
   },
   "source": [
    "### Task 3"
   ]
  },
  {
   "cell_type": "markdown",
   "metadata": {
    "colab_type": "text",
    "id": "s_cmSK_pbjvP"
   },
   "source": [
    "Next, let's evaluate the performance of our model quantitatively. We can visualize statistics on the number of correct vs. incorrect predictions using a plot called a Confusion Matrix.\n"
   ]
  },
  {
   "cell_type": "code",
   "execution_count": 16,
   "metadata": {
    "colab": {
     "base_uri": "https://localhost:8080/",
     "height": 342
    },
    "colab_type": "code",
    "id": "EcfsPpup9ljK",
    "outputId": "6a355b95-362d-4714-cbd9-decbbf1ab403"
   },
   "outputs": [
    {
     "data": {
      "text/plain": [
       "Text(0.5, 257.44, 'Predicted diagnosis')"
      ]
     },
     "execution_count": 16,
     "metadata": {},
     "output_type": "execute_result"
    },
    {
     "data": {
      "image/png": "[encoded data removed]",
      "text/plain": [
       "<Figure size 432x288 with 2 Axes>"
      ]
     },
     "metadata": {
      "needs_background": "light"
     },
     "output_type": "display_data"
    }
   ],
   "source": [
    "#@title Run this code to create a confusion matrix. { display-mode: \"form\" }\n",
    "#@markdown If you are curious how it works you may double-click to inspect the code.\n",
    "\n",
    "# Import the metrics class\n",
    "from sklearn import metrics\n",
    "\n",
    "# Create the Confusion Matrix\n",
    "y_test = dataframe['diagnosis']\n",
    "cnf_matrix = metrics.confusion_matrix(y_test, y_pred)\n",
    "\n",
    "# Visualizing the Confusion Matrix\n",
    "class_names = [0,1] # Our diagnosis categories\n",
    "\n",
    "fig, ax = plt.subplots()\n",
    "# Setting up and visualizing the plot (do not worry about the code below!)\n",
    "tick_marks = np.arange(len(class_names)) \n",
    "plt.xticks(tick_marks, class_names)\n",
    "plt.yticks(tick_marks, class_names)\n",
    "sns.heatmap(pd.DataFrame(cnf_matrix), annot=True, cmap=\"YlGnBu\" ,fmt='g') # Creating heatmap\n",
    "ax.xaxis.set_label_position(\"top\")\n",
    "plt.tight_layout()\n",
    "plt.title('Confusion matrix', y = 1.1)\n",
    "plt.ylabel('Actual diagnosis')\n",
    "plt.xlabel('Predicted diagnosis')"
   ]
  },
  {
   "cell_type": "code",
   "execution_count": 17,
   "metadata": {
    "colab": {},
    "colab_type": "code",
    "id": "0xqCb1zElUUo"
   },
   "outputs": [],
   "source": [
    "\n",
    "def model_stats(y_test,y_pred):\n",
    "    accuracy = metrics.accuracy_score(y_test, y_pred)\n",
    "    precision = metrics.precision_score(y_test, y_pred)\n",
    "    recall = metrics.recall_score(y_test, y_pred)\n",
    "    print (\"Accuracy: \" + str(accuracy))\n",
    "    print (\"Precision: \" + str(precision))\n",
    "    print (\"Recall: \" + str(recall))"
   ]
  },
  {
   "cell_type": "code",
   "execution_count": 18,
   "metadata": {
    "colab": {
     "base_uri": "https://localhost:8080/",
     "height": 68
    },
    "colab_type": "code",
    "id": "tymoFFLaJzMc",
    "outputId": "39536c33-775a-429d-b663-55a101397bff"
   },
   "outputs": [
    {
     "name": "stdout",
     "output_type": "stream",
     "text": [
      "Accuracy: 0.8892794376098418\n",
      "Precision: 0.930635838150289\n",
      "Recall: 0.7594339622641509\n"
     ]
    }
   ],
   "source": [
    "model_stats(y_test, y_pred)"
   ]
  },
  {
   "cell_type": "markdown",
   "metadata": {
    "colab_type": "text",
    "id": "sHhZeAbdupMl"
   },
   "source": [
    "# Finding a better separation with logistic regression\n"
   ]
  },
  {
   "cell_type": "markdown",
   "metadata": {
    "colab_type": "text",
    "id": "69c2JKp8Mxwi"
   },
   "source": [
    "\n",
    "### Task 4\n",
    "\n",
    "Now, it's time to move away from our simple guess-and-check model and work towards implementing a an approach that can automatically find a better separation. One of the most common methods for this is called 'Logistic Regression'. \n",
    "\n",
    "First, we'll start by just using the radius_mean feature. "
   ]
  },
  {
   "cell_type": "code",
   "execution_count": 19,
   "metadata": {
    "colab": {},
    "colab_type": "code",
    "id": "ZEq3DYrh1nPO"
   },
   "outputs": [],
   "source": [
    "# Let's pull our handy linear fitter from our 'prediction' toolbox: sklearn!\n",
    "from sklearn import linear_model"
   ]
  },
  {
   "cell_type": "markdown",
   "metadata": {
    "colab_type": "text",
    "id": "ZJfT1x60fZxd"
   },
   "source": [
    "### Training Data vs Test Data\n",
    "\n",
    "We're splitting up our data set into groups called 'train' and 'test'. We teach our 'model' the patterns using the train data, but the whole point of machine learning is that our prediction should work on 'unseen' data or 'test' data. The function below does this for you. \n"
   ]
  },
  {
   "cell_type": "code",
   "execution_count": 20,
   "metadata": {
    "colab": {},
    "colab_type": "code",
    "id": "krQ6dJo-5yek"
   },
   "outputs": [],
   "source": [
    "from sklearn.model_selection import train_test_split\n",
    "\n",
    "train_df, test_df = train_test_split(dataframe, test_size = 0.4, random_state = 1)\n"
   ]
  },
  {
   "cell_type": "markdown",
   "metadata": {
    "colab_type": "text",
    "id": "OOECnkKBf_tD"
   },
   "source": [
    "Let's now take a look at the 'train' and 'test' groups:\n"
   ]
  },
  {
   "cell_type": "code",
   "execution_count": 21,
   "metadata": {
    "colab": {
     "base_uri": "https://localhost:8080/",
     "height": 255
    },
    "colab_type": "code",
    "id": "wDYAAl6xgPYO",
    "outputId": "1475d003-bd9b-43be-d244-15dc22fc372d"
   },
   "outputs": [
    {
     "name": "stdout",
     "output_type": "stream",
     "text": [
      "\n",
      "\n",
      "Training dataframe has 341 rows\n"
     ]
    },
    {
     "data": {
      "text/html": [
       "<div>\n",
       "<style scoped>\n",
       "    .dataframe tbody tr th:only-of-type {\n",
       "        vertical-align: middle;\n",
       "    }\n",
       "\n",
       "    .dataframe tbody tr th {\n",
       "        vertical-align: top;\n",
       "    }\n",
       "\n",
       "    .dataframe thead th {\n",
       "        text-align: right;\n",
       "    }\n",
       "</style>\n",
       "<table border=\"1\" class=\"dataframe\">\n",
       "  <thead>\n",
       "    <tr style=\"text-align: right;\">\n",
       "      <th></th>\n",
       "      <th>diagnosis</th>\n",
       "      <th>radius_mean</th>\n",
       "      <th>area_mean</th>\n",
       "      <th>radius_se</th>\n",
       "      <th>area_se</th>\n",
       "      <th>smoothness_mean</th>\n",
       "      <th>smoothness_se</th>\n",
       "      <th>predicted</th>\n",
       "    </tr>\n",
       "  </thead>\n",
       "  <tbody>\n",
       "    <tr>\n",
       "      <th>164</th>\n",
       "      <td>1</td>\n",
       "      <td>23.270</td>\n",
       "      <td>1686.0</td>\n",
       "      <td>0.6642</td>\n",
       "      <td>97.85</td>\n",
       "      <td>0.08439</td>\n",
       "      <td>0.004910</td>\n",
       "      <td>1</td>\n",
       "    </tr>\n",
       "    <tr>\n",
       "      <th>13</th>\n",
       "      <td>1</td>\n",
       "      <td>15.850</td>\n",
       "      <td>782.7</td>\n",
       "      <td>0.4033</td>\n",
       "      <td>36.58</td>\n",
       "      <td>0.08401</td>\n",
       "      <td>0.009769</td>\n",
       "      <td>1</td>\n",
       "    </tr>\n",
       "    <tr>\n",
       "      <th>430</th>\n",
       "      <td>1</td>\n",
       "      <td>14.900</td>\n",
       "      <td>685.0</td>\n",
       "      <td>0.2530</td>\n",
       "      <td>24.19</td>\n",
       "      <td>0.09947</td>\n",
       "      <td>0.006965</td>\n",
       "      <td>0</td>\n",
       "    </tr>\n",
       "    <tr>\n",
       "      <th>61</th>\n",
       "      <td>0</td>\n",
       "      <td>8.598</td>\n",
       "      <td>221.8</td>\n",
       "      <td>0.3582</td>\n",
       "      <td>18.39</td>\n",
       "      <td>0.12430</td>\n",
       "      <td>0.011930</td>\n",
       "      <td>0</td>\n",
       "    </tr>\n",
       "    <tr>\n",
       "      <th>427</th>\n",
       "      <td>0</td>\n",
       "      <td>10.800</td>\n",
       "      <td>359.9</td>\n",
       "      <td>0.3077</td>\n",
       "      <td>20.20</td>\n",
       "      <td>0.08801</td>\n",
       "      <td>0.006543</td>\n",
       "      <td>0</td>\n",
       "    </tr>\n",
       "  </tbody>\n",
       "</table>\n",
       "</div>"
      ],
      "text/plain": [
       "     diagnosis  radius_mean  area_mean  radius_se  area_se  smoothness_mean  \\\n",
       "164          1       23.270     1686.0     0.6642    97.85          0.08439   \n",
       "13           1       15.850      782.7     0.4033    36.58          0.08401   \n",
       "430          1       14.900      685.0     0.2530    24.19          0.09947   \n",
       "61           0        8.598      221.8     0.3582    18.39          0.12430   \n",
       "427          0       10.800      359.9     0.3077    20.20          0.08801   \n",
       "\n",
       "     smoothness_se  predicted  \n",
       "164       0.004910          1  \n",
       "13        0.009769          1  \n",
       "430       0.006965          0  \n",
       "61        0.011930          0  \n",
       "427       0.006543          0  "
      ]
     },
     "execution_count": 21,
     "metadata": {},
     "output_type": "execute_result"
    }
   ],
   "source": [
    "print('\\n\\nTraining dataframe has %d rows'%train_df.shape[0])\n",
    "train_df.head()"
   ]
  },
  {
   "cell_type": "code",
   "execution_count": 22,
   "metadata": {
    "colab": {
     "base_uri": "https://localhost:8080/",
     "height": 255
    },
    "colab_type": "code",
    "id": "EMornfXPhzli",
    "outputId": "dad3d46c-0371-430d-a3c0-fd5c34722b8b"
   },
   "outputs": [
    {
     "name": "stdout",
     "output_type": "stream",
     "text": [
      "\n",
      "\n",
      "Testing dataframe has 228 rows\n"
     ]
    },
    {
     "data": {
      "text/html": [
       "<div>\n",
       "<style scoped>\n",
       "    .dataframe tbody tr th:only-of-type {\n",
       "        vertical-align: middle;\n",
       "    }\n",
       "\n",
       "    .dataframe tbody tr th {\n",
       "        vertical-align: top;\n",
       "    }\n",
       "\n",
       "    .dataframe thead th {\n",
       "        text-align: right;\n",
       "    }\n",
       "</style>\n",
       "<table border=\"1\" class=\"dataframe\">\n",
       "  <thead>\n",
       "    <tr style=\"text-align: right;\">\n",
       "      <th></th>\n",
       "      <th>diagnosis</th>\n",
       "      <th>radius_mean</th>\n",
       "      <th>area_mean</th>\n",
       "      <th>radius_se</th>\n",
       "      <th>area_se</th>\n",
       "      <th>smoothness_mean</th>\n",
       "      <th>smoothness_se</th>\n",
       "      <th>predicted</th>\n",
       "    </tr>\n",
       "  </thead>\n",
       "  <tbody>\n",
       "    <tr>\n",
       "      <th>421</th>\n",
       "      <td>0</td>\n",
       "      <td>14.69</td>\n",
       "      <td>656.1</td>\n",
       "      <td>0.5462</td>\n",
       "      <td>49.45</td>\n",
       "      <td>0.10310</td>\n",
       "      <td>0.009976</td>\n",
       "      <td>0</td>\n",
       "    </tr>\n",
       "    <tr>\n",
       "      <th>47</th>\n",
       "      <td>1</td>\n",
       "      <td>13.17</td>\n",
       "      <td>534.6</td>\n",
       "      <td>0.2871</td>\n",
       "      <td>24.25</td>\n",
       "      <td>0.11580</td>\n",
       "      <td>0.006532</td>\n",
       "      <td>0</td>\n",
       "    </tr>\n",
       "    <tr>\n",
       "      <th>292</th>\n",
       "      <td>0</td>\n",
       "      <td>12.95</td>\n",
       "      <td>513.7</td>\n",
       "      <td>0.2094</td>\n",
       "      <td>17.67</td>\n",
       "      <td>0.10050</td>\n",
       "      <td>0.008725</td>\n",
       "      <td>0</td>\n",
       "    </tr>\n",
       "    <tr>\n",
       "      <th>186</th>\n",
       "      <td>1</td>\n",
       "      <td>18.31</td>\n",
       "      <td>1041.0</td>\n",
       "      <td>0.2577</td>\n",
       "      <td>28.92</td>\n",
       "      <td>0.08588</td>\n",
       "      <td>0.002866</td>\n",
       "      <td>1</td>\n",
       "    </tr>\n",
       "    <tr>\n",
       "      <th>414</th>\n",
       "      <td>1</td>\n",
       "      <td>15.13</td>\n",
       "      <td>719.5</td>\n",
       "      <td>0.4681</td>\n",
       "      <td>45.38</td>\n",
       "      <td>0.08320</td>\n",
       "      <td>0.006831</td>\n",
       "      <td>1</td>\n",
       "    </tr>\n",
       "  </tbody>\n",
       "</table>\n",
       "</div>"
      ],
      "text/plain": [
       "     diagnosis  radius_mean  area_mean  radius_se  area_se  smoothness_mean  \\\n",
       "421          0        14.69      656.1     0.5462    49.45          0.10310   \n",
       "47           1        13.17      534.6     0.2871    24.25          0.11580   \n",
       "292          0        12.95      513.7     0.2094    17.67          0.10050   \n",
       "186          1        18.31     1041.0     0.2577    28.92          0.08588   \n",
       "414          1        15.13      719.5     0.4681    45.38          0.08320   \n",
       "\n",
       "     smoothness_se  predicted  \n",
       "421       0.009976          0  \n",
       "47        0.006532          0  \n",
       "292       0.008725          0  \n",
       "186       0.002866          1  \n",
       "414       0.006831          1  "
      ]
     },
     "execution_count": 22,
     "metadata": {},
     "output_type": "execute_result"
    }
   ],
   "source": [
    "print('\\n\\nTesting dataframe has %d rows'%test_df.shape[0])\n",
    "test_df.head()"
   ]
  },
  {
   "cell_type": "markdown",
   "metadata": {
    "colab_type": "text",
    "id": "0WuOmB45g1-B"
   },
   "source": [
    "### Single Variable Logistic Regression\n",
    "To start with let us set our input feature to be radius mean and our output variable to be the diagnosis. \n",
    "\n",
    "We will use this to build a logistic regression model to pedict the diagnosis using radius mean. We will explain what a logistic regression is shortly!"
   ]
  },
  {
   "cell_type": "code",
   "execution_count": 23,
   "metadata": {
    "colab": {
     "base_uri": "https://localhost:8080/",
     "height": 306
    },
    "colab_type": "code",
    "id": "chesGAaKNVON",
    "outputId": "53eeb3aa-b669-44af-daf1-e159743f97e7"
   },
   "outputs": [
    {
     "name": "stdout",
     "output_type": "stream",
     "text": [
      "Our x variables\n",
      "     radius_mean\n",
      "164       23.270\n",
      "13        15.850\n",
      "430       14.900\n",
      "61         8.598\n",
      "427       10.800\n",
      "\n",
      "\n",
      "\n",
      "Our y variable:\n",
      "164    1\n",
      "13     1\n",
      "430    1\n",
      "61     0\n",
      "427    0\n",
      "Name: diagnosis, dtype: int64\n"
     ]
    }
   ],
   "source": [
    "input_labels = ['radius_mean']\n",
    "output_label = 'diagnosis'\n",
    "\n",
    "\n",
    "x_train = train_df[input_labels]\n",
    "print('Our x variables')\n",
    "print(x_train.head())\n",
    "print('\\n\\n')\n",
    "\n",
    "y_train = train_df[output_label]\n",
    "print('Our y variable:')\n",
    "print(y_train.head())"
   ]
  },
  {
   "cell_type": "code",
   "execution_count": 24,
   "metadata": {
    "colab": {},
    "colab_type": "code",
    "id": "kj1LIpVT6SwY"
   },
   "outputs": [],
   "source": [
    "# Here, we create a 'reg' object that handles the line fitting for us!\n",
    "class_rm = linear_model.LogisticRegression()"
   ]
  },
  {
   "cell_type": "markdown",
   "metadata": {
    "colab_type": "text",
    "id": "shsboaDEjSC_"
   },
   "source": [
    "###Next, we want to tell our 'class_rm' object to take in my inputs (x) and my true labels (y) and fit a line that predicts y from x.\n",
    "\n",
    "#### Exercise: Can you place the arguments `x_train` and `y_train` correctly into this function to do this?\n",
    "`class_rm.fit(FILL_ME_IN, FILL_ME_IN)`\n"
   ]
  },
  {
   "cell_type": "code",
   "execution_count": 25,
   "metadata": {
    "colab": {
     "base_uri": "https://localhost:8080/",
     "height": 102
    },
    "colab_type": "code",
    "id": "NfV0t3bqjtum",
    "outputId": "d512a715-2cb5-4562-8ce5-c68f4b02505b"
   },
   "outputs": [
    {
     "name": "stderr",
     "output_type": "stream",
     "text": [
      "/Users/shounakg/anaconda3/lib/python3.7/site-packages/sklearn/linear_model/logistic.py:433: FutureWarning: Default solver will be changed to 'lbfgs' in 0.22. Specify a solver to silence this warning.\n",
      "  FutureWarning)\n"
     ]
    },
    {
     "data": {
      "text/plain": [
       "LogisticRegression(C=1.0, class_weight=None, dual=False, fit_intercept=True,\n",
       "          intercept_scaling=1, max_iter=100, multi_class='warn',\n",
       "          n_jobs=None, penalty='l2', random_state=None, solver='warn',\n",
       "          tol=0.0001, verbose=0, warm_start=False)"
      ]
     },
     "execution_count": 25,
     "metadata": {},
     "output_type": "execute_result"
    }
   ],
   "source": [
    "class_rm.fit(x_train, y_train)"
   ]
  },
  {
   "cell_type": "markdown",
   "metadata": {
    "colab_type": "text",
    "id": "M_keLGwQjzsu"
   },
   "source": [
    "### How do we know if our 'model' is actually 'learning' anything? We need to test it on unseen data.\n",
    "\n",
    "Here we will be designating test inputs to check our model."
   ]
  },
  {
   "cell_type": "code",
   "execution_count": 26,
   "metadata": {
    "colab": {},
    "colab_type": "code",
    "id": "WaBE6yg6kF2N"
   },
   "outputs": [],
   "source": [
    "x_test = test_df[input_labels]"
   ]
  },
  {
   "cell_type": "markdown",
   "metadata": {
    "colab_type": "text",
    "id": "vPJNTRKmkTwl"
   },
   "source": [
    "The lines of code below gives us the true or actual values for the test inputs, and our predicted outputs.\n"
   ]
  },
  {
   "cell_type": "code",
   "execution_count": 27,
   "metadata": {
    "colab": {},
    "colab_type": "code",
    "id": "0Xcz9OW6kcAI"
   },
   "outputs": [
    {
     "name": "stdout",
     "output_type": "stream",
     "text": [
      "[0 0 0 1 1 1 1 1 0 0 0 0 1 0 0 0 0 0 0 1 0 0 1 0 0 0 0 1 1 1 1 0 1 0 0 0 1\n",
      " 0 0 0 0 0 0 0 0 1 0 0 0 1 1 1 0 0 0 0 0 1 0 0 0 0 0 0 0 0 0 1 0 0 0 0 0 1\n",
      " 0 1 0 0 0 1 0 1 0 1 0 0 0 0 0 0 0 0 0 0 1 0 0 0 0 0 0 0 0 0 0 0 0 0 1 1 0\n",
      " 0 0 0 1 1 0 0 0 0 0 1 1 0 0 1 0 1 1 1 0 1 0 1 0 1 1 1 0 0 1 1 0 1 0 0 0 0\n",
      " 0 1 0 0 0 0 0 0 1 0 0 0 0 0 0 1 0 0 1 1 1 0 0 0 0 0 0 0 0 0 0 0 0 0 0 0 1\n",
      " 1 1 0 1 0 0 0 0 1 1 0 0 0 1 0 1 0 0 0 1 1 0 0 0 1 0 0 0 0 1 0 0 0 0 0 0 0\n",
      " 1 0 1 0 0 1]\n"
     ]
    }
   ],
   "source": [
    "y_test = test_df[output_label].values.squeeze()\n",
    "y_pred = class_rm.predict(x_test)\n",
    "print(y_pred)"
   ]
  },
  {
   "cell_type": "markdown",
   "metadata": {
    "colab_type": "text",
    "id": "ensyfit5lP1U"
   },
   "source": [
    "Run the code below to visualize the results."
   ]
  },
  {
   "cell_type": "code",
   "execution_count": 28,
   "metadata": {
    "colab": {
     "base_uri": "https://localhost:8080/",
     "height": 296
    },
    "colab_type": "code",
    "id": "GUSOLlz8lJu-",
    "outputId": "124b7abc-f412-4c53-f7ca-350cf9f5a9ac"
   },
   "outputs": [
    {
     "data": {
      "text/plain": [
       "<matplotlib.legend.Legend at 0x1a1fb02da0>"
      ]
     },
     "execution_count": 28,
     "metadata": {},
     "output_type": "execute_result"
    },
    {
     "data": {
      "image/png": "[encoded data removed]",
      "text/plain": [
       "<Figure size 432x288 with 1 Axes>"
      ]
     },
     "metadata": {
      "needs_background": "light"
     },
     "output_type": "display_data"
    }
   ],
   "source": [
    "y_pred = y_pred.squeeze()\n",
    "x_test_view = x_test[input_labels].values.squeeze()\n",
    "sns.scatterplot(x = x_test_view, y = y_pred, hue = y_test)\n",
    "plt.xlabel('Radius')\n",
    "plt.ylabel('Predicted')\n",
    "plt.legend()"
   ]
  },
  {
   "cell_type": "markdown",
   "metadata": {
    "colab_type": "text",
    "id": "x_DJgPAHlaVQ"
   },
   "source": [
    "### Finally, let's re-evalute the recall, accuracy, and precision for the model by calling the functions we created."
   ]
  },
  {
   "cell_type": "code",
   "execution_count": 29,
   "metadata": {
    "colab": {
     "base_uri": "https://localhost:8080/",
     "height": 68
    },
    "colab_type": "code",
    "id": "BKz5TfiOTHDl",
    "outputId": "f71e47e7-731c-4643-a986-327078c2aab2"
   },
   "outputs": [
    {
     "name": "stdout",
     "output_type": "stream",
     "text": [
      "Accuracy: 0.8903508771929824\n",
      "Precision: 0.9230769230769231\n",
      "Recall: 0.75\n"
     ]
    }
   ],
   "source": [
    "model_stats(y_test,y_pred)"
   ]
  },
  {
   "cell_type": "markdown",
   "metadata": {
    "colab_type": "text",
    "id": "eAi-LWA12aLh"
   },
   "source": [
    "## What is logistic regression doing? It's giving 'soft' predictions!\n"
   ]
  },
  {
   "cell_type": "code",
   "execution_count": 30,
   "metadata": {
    "colab": {
     "base_uri": "https://localhost:8080/",
     "height": 282
    },
    "colab_type": "code",
    "id": "V0tu5u7Y7CVL",
    "outputId": "e3317ff4-896f-4982-b3c2-cc6dff42aae6"
   },
   "outputs": [
    {
     "data": {
      "text/plain": [
       "<matplotlib.axes._subplots.AxesSubplot at 0x1a2067eda0>"
      ]
     },
     "execution_count": 30,
     "metadata": {},
     "output_type": "execute_result"
    },
    {
     "data": {
      "image/png": "[encoded data removed]",
      "text/plain": [
       "<Figure size 432x288 with 1 Axes>"
      ]
     },
     "metadata": {
      "needs_background": "light"
     },
     "output_type": "display_data"
    }
   ],
   "source": [
    "# Let's visualize the probabilities for `x_test`\n",
    "y_prob = class_rm.predict_proba(x_test)\n",
    "sns.scatterplot(x = x_test_view, y = y_prob[:,1], hue = y_test)"
   ]
  },
  {
   "cell_type": "markdown",
   "metadata": {
    "colab_type": "text",
    "id": "W2YecYWaN04j"
   },
   "source": [
    "The Y-axis is the  probability of being 'malignant' and the X-axis is the radius mean. \n",
    "\n"
   ]
  },
  {
   "cell_type": "markdown",
   "metadata": {
    "colab_type": "text",
    "id": "pDanKBnC9ocw"
   },
   "source": [
    "## How does logistic regression relate to linear regression? \n"
   ]
  },
  {
   "cell_type": "markdown",
   "metadata": {
    "colab_type": "text",
    "id": "zmLI0b9lP663"
   },
   "source": [
    "\n",
    "Recall that linear regression establishes a relationship between the independent and dependent variables. This is particularly useful when we want to estimate the dependent variable based on the value of the independent variable(s). \n",
    "\n",
    "With logistic regression, we are predicting a probability between 0 and 1 (like whether or not a tumor is malignant or benign). \n",
    "\n",
    "When we look at graphical representations, linear regression will yield a line while logistic regression an S-shaped curve. \n"
   ]
  },
  {
   "cell_type": "markdown",
   "metadata": {
    "colab_type": "text",
    "id": "4768savLF9kQ"
   },
   "source": [
    "## Visualization: linear vs. logistic regression\n",
    "\n"
   ]
  },
  {
   "cell_type": "markdown",
   "metadata": {
    "colab_type": "text",
    "id": "nVZQExC5Qhbs"
   },
   "source": [
    "This plot shows the graphical representations described above. As you can see, the linear model can yield predicted values outside the [0,1] range because it is a continuous linear function. \n",
    "\n",
    "On the other hand, the logistic model stays within our bounds. You can see that the logistic model gives a \"line\" with curvy ends in the [0,1] range, which is the best approximation for a line that will also always respect these boundaries. \n",
    "\n",
    "**Confusingly, the biggest difference between linear and logistic regression is that linear regression is used for regression problems (predicting the value of continuous variables) while logistic regression is used for classification problems!**\n",
    "\n",
    "*Linear Regression:*\n",
    "\n",
    "![Linear Regression](https://i.stack.imgur.com/kW8YP.png)\n",
    "\n",
    "*Logistic Regression:*\n",
    "\n",
    "![Logistic Regression](https://techdifferences.com/wp-content/uploads/2018/01/graph-logistic-regression.jpg)"
   ]
  },
  {
   "cell_type": "markdown",
   "metadata": {
    "colab_type": "text",
    "id": "qwV9puGeutSd"
   },
   "source": [
    "# (Optional) An even better logistic regression! \n",
    "\n",
    "#### Exercise 5\n",
    "\n",
    "Previously, we still just used a single feature to predict diagnosis. Now, let's leverage our input data's many features to build an even better classifier. First, let's set our input labels to be the list of all our features we chose for our dataframe and our output label to be the diagnosis.\n",
    "\n",
    "```\n",
    "input_labels =\n",
    "output_label =\n",
    "```\n"
   ]
  },
  {
   "cell_type": "markdown",
   "metadata": {
    "colab_type": "text",
    "id": "b1IA7nNQm5tD"
   },
   "source": [
    "#### How do you select multiple columns from a pandas Dataframe?\n",
    "\n",
    "```\n",
    "\n",
    "pd.DataFrame[['radius_mean','area_mean']] ## this returns a dataframe\n",
    "\n",
    "\n",
    "pd.DataFrame['area_mean'] ## this returns a pandas Series\n",
    "\n",
    "```"
   ]
  },
  {
   "cell_type": "code",
   "execution_count": 31,
   "metadata": {
    "colab": {},
    "colab_type": "code",
    "id": "wuT2-qCf8gmA"
   },
   "outputs": [],
   "source": [
    "# YOUR CODE HERE:\n",
    "input_labels = ['radius_mean', 'area_mean', 'radius_se', 'area_se', 'smoothness_mean', 'smoothness_se'] \n",
    "output_label = ['diagnosis']\n",
    "\n",
    "train_df, test_df = train_test_split(dataframe, test_size = 0.4, random_state = 1)\n",
    "\n",
    "x_train = train_df[input_labels]\n",
    "\n",
    "y_train = train_df[output_label]\n",
    "y_train = y_train.squeeze()\n",
    "\n",
    "\n",
    "\n",
    "\n",
    "# END CODE"
   ]
  },
  {
   "cell_type": "code",
   "execution_count": 32,
   "metadata": {
    "colab": {
     "base_uri": "https://localhost:8080/",
     "height": 306
    },
    "colab_type": "code",
    "id": "Xm-DfDR_n2nt",
    "outputId": "6ee251c9-2518-4760-d04a-ba0650afbd22"
   },
   "outputs": [
    {
     "name": "stdout",
     "output_type": "stream",
     "text": [
      "Our x variables\n",
      "     radius_mean  area_mean  radius_se  area_se  smoothness_mean  \\\n",
      "164       23.270     1686.0     0.6642    97.85          0.08439   \n",
      "13        15.850      782.7     0.4033    36.58          0.08401   \n",
      "430       14.900      685.0     0.2530    24.19          0.09947   \n",
      "61         8.598      221.8     0.3582    18.39          0.12430   \n",
      "427       10.800      359.9     0.3077    20.20          0.08801   \n",
      "\n",
      "     smoothness_se  \n",
      "164       0.004910  \n",
      "13        0.009769  \n",
      "430       0.006965  \n",
      "61        0.011930  \n",
      "427       0.006543  \n",
      "\n",
      "\n",
      "Our y variable:\n",
      "164    1\n",
      "13     1\n",
      "430    1\n",
      "61     0\n",
      "427    0\n",
      "Name: diagnosis, dtype: int64\n"
     ]
    }
   ],
   "source": [
    "#@title Let's visualize our selection { display-mode: \"form\" }\n",
    "\n",
    "\n",
    "print('Our x variables')\n",
    "print(x_train.head())\n",
    "print('\\n')\n",
    "\n",
    "print('Our y variable:')\n",
    "print(y_train.head())"
   ]
  },
  {
   "cell_type": "code",
   "execution_count": 33,
   "metadata": {
    "colab": {
     "base_uri": "https://localhost:8080/",
     "height": 204
    },
    "colab_type": "code",
    "id": "mT460Ui1oc4q",
    "outputId": "c91cf78e-c409-4b63-87d0-27752929a6fa"
   },
   "outputs": [
    {
     "name": "stdout",
     "output_type": "stream",
     "text": [
      "Accuracy: 0.8991228070175439\n",
      "Precision: 0.88\n",
      "Recall: 0.825\n"
     ]
    },
    {
     "name": "stderr",
     "output_type": "stream",
     "text": [
      "/Users/shounakg/anaconda3/lib/python3.7/site-packages/sklearn/linear_model/logistic.py:433: FutureWarning: Default solver will be changed to 'lbfgs' in 0.22. Specify a solver to silence this warning.\n",
      "  FutureWarning)\n"
     ]
    }
   ],
   "source": [
    "class_rm = linear_model.LogisticRegression()\n",
    "class_rm.fit(x_train, y_train)\n",
    "\n",
    "x_test = test_df[input_labels]\n",
    "y_test = test_df[output_label].values.squeeze()\n",
    "\n",
    "\n",
    "y_pred = class_rm.predict(x_test)\n",
    "\n",
    "\n",
    "model_stats(y_test,y_pred)\n"
   ]
  },
  {
   "cell_type": "markdown",
   "metadata": {
    "colab_type": "text",
    "id": "bCP5dB9dvJ1x"
   },
   "source": [
    "# Decision Trees \n",
    "\n",
    "Finally, let's try a different classification model: decision trees! With decision trees, we choose features that create the best splits of our dataset (separates it into classes as best it can at that time)."
   ]
  },
  {
   "cell_type": "code",
   "execution_count": 35,
   "metadata": {
    "colab": {
     "base_uri": "https://localhost:8080/",
     "height": 119
    },
    "colab_type": "code",
    "id": "VbpWRKvyTedY",
    "outputId": "07c3c517-d841-40eb-ced2-b58edadd036f",
    "scrolled": true
   },
   "outputs": [
    {
     "data": {
      "text/plain": [
       "DecisionTreeClassifier(class_weight=None, criterion='gini', max_depth=2,\n",
       "            max_features=None, max_leaf_nodes=None,\n",
       "            min_impurity_decrease=0.0, min_impurity_split=None,\n",
       "            min_samples_leaf=1, min_samples_split=2,\n",
       "            min_weight_fraction_leaf=0.0, presort=False, random_state=None,\n",
       "            splitter='best')"
      ]
     },
     "execution_count": 35,
     "metadata": {},
     "output_type": "execute_result"
    }
   ],
   "source": [
    "#@title Create the model { display-mode: \"both\" }\n",
    "import sklearn\n",
    "from sklearn import tree\n",
    "\n",
    "# We'll first specify what model we want, in this case a decision tree\n",
    "class_dt = tree.DecisionTreeClassifier(max_depth=2)\n",
    "\n",
    "# We use our previous `x_train` and `y_train` sets to build the model\n",
    "class_dt.fit(x_train, y_train)\n",
    "\n"
   ]
  },
  {
   "cell_type": "code",
   "execution_count": 36,
   "metadata": {},
   "outputs": [
    {
     "ename": "AttributeError",
     "evalue": "module 'sklearn.tree' has no attribute 'plot_tree'",
     "output_type": "error",
     "traceback": [
      "\u001b[0;31m---------------------------------------------------------------------------\u001b[0m",
      "\u001b[0;31mAttributeError\u001b[0m                            Traceback (most recent call last)",
      "\u001b[0;32m<ipython-input-36-3a62f56ab36e>\u001b[0m in \u001b[0;36m<module>\u001b[0;34m\u001b[0m\n\u001b[0;32m----> 1\u001b[0;31m \u001b[0mtree\u001b[0m\u001b[0;34m.\u001b[0m\u001b[0mplot_tree\u001b[0m\u001b[0;34m(\u001b[0m\u001b[0mclass_dt\u001b[0m\u001b[0;34m)\u001b[0m\u001b[0;34m\u001b[0m\u001b[0;34m\u001b[0m\u001b[0m\n\u001b[0m",
      "\u001b[0;31mAttributeError\u001b[0m: module 'sklearn.tree' has no attribute 'plot_tree'"
     ]
    }
   ],
   "source": [
    "tree.plot_tree(class_dt) # Why does this not work?"
   ]
  },
  {
   "cell_type": "code",
   "execution_count": null,
   "metadata": {
    "colab": {},
    "colab_type": "code",
    "id": "IKUiw9KdUQBs"
   },
   "outputs": [],
   "source": [
    "#@title Find the predictions based on the model { display-mode: \"both\" }\n",
    "# now let's see how it performed!\n",
    "y_pred = class_dt.predict(x_test)"
   ]
  },
  {
   "cell_type": "code",
   "execution_count": null,
   "metadata": {
    "colab": {
     "base_uri": "https://localhost:8080/",
     "height": 68
    },
    "colab_type": "code",
    "id": "FcJmeOmFUaHP",
    "outputId": "5cfe18b8-a825-40ce-d430-746172586110"
   },
   "outputs": [],
   "source": [
    "#@title Calculate model performance { display-mode: \"both\" }\n",
    "model_stats(y_test, y_pred)"
   ]
  },
  {
   "cell_type": "code",
   "execution_count": null,
   "metadata": {},
   "outputs": [],
   "source": []
  }
 ],
 "metadata": {
  "colab": {
   "collapsed_sections": [
    "HP9U_AO8stAq",
    "CwIq3r8RENiw"
   ],
   "name": "22shounakg_Logistic_Regression.ipynb",
   "provenance": []
  },
  "kernelspec": {
   "display_name": "Python 3",
   "language": "python",
   "name": "python3"
  },
  "language_info": {
   "codemirror_mode": {
    "name": "ipython",
    "version": 3
   },
   "file_extension": ".py",
   "mimetype": "text/x-python",
   "name": "python",
   "nbconvert_exporter": "python",
   "pygments_lexer": "ipython3",
   "version": "3.7.1"
  }
 },
 "nbformat": 4,
 "nbformat_minor": 1
}
