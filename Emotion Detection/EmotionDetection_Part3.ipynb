{
  "nbformat": 4,
  "nbformat_minor": 0,
  "metadata": {
    "colab": {
      "name": "22shounakg_EmotionDetection_Section3.ipynb",
      "provenance": [],
      "collapsed_sections": []
    },
    "kernelspec": {
      "name": "python3",
      "display_name": "Python 3"
    },
    "accelerator": "GPU"
  },
  "cells": [
    {
      "cell_type": "code",
      "metadata": {
        "id": "Qhr-G_92H2Bc",
        "colab_type": "code",
        "colab": {
          "base_uri": "https://localhost:8080/",
          "height": 34
        },
        "outputId": "1544857f-0d43-4468-f353-71dae036fbd8"
      },
      "source": [
        "#@title Run this to download data and prepare the environment!  { display-mode: \"form\" }\n",
        "\n",
        "import cv2\n",
        "import dlib\n",
        "import pickle\n",
        "import warnings\n",
        "import numpy as np\n",
        "import pandas as pd\n",
        "import seaborn as sns\n",
        "\n",
        "import urllib.request\n",
        "\n",
        "from sklearn import metrics\n",
        "from scipy.spatial import distance\n",
        "from sklearn.metrics import accuracy_score\n",
        "from matplotlib import pyplot as plt\n",
        "from tqdm import tqdm,tqdm_pandas\n",
        "from sklearn.preprocessing import StandardScaler\n",
        "from sklearn.model_selection import train_test_split\n",
        "\n",
        "import re\n",
        "import gdown\n",
        "import keras\n",
        "\n",
        "from keras.models import Sequential\n",
        "from keras.utils import to_categorical\n",
        "from keras.optimizers import adam\n",
        "from keras.layers import Dense, Dropout, Activation, Flatten\n",
        "from keras.layers import Conv2D, MaxPooling2D, BatchNormalization\n",
        "from keras.losses import categorical_crossentropy\n",
        "from keras.optimizers import Adam, SGD\n",
        "from keras.regularizers import l2\n",
        "from keras.callbacks import EarlyStopping, ModelCheckpoint\n",
        "from keras.models import load_model\n",
        "\n",
        "# grab tools from our tensorflow and keras toolboxes!\n",
        "import tensorflow as tf\n",
        "from keras.models import Sequential\n",
        "from keras.layers import Activation, Dropout, Flatten, Dense\n",
        "from keras import optimizers\n",
        "\n",
        "warnings.filterwarnings(\"ignore\")\n",
        "def model_to_string(model):\n",
        "    import re\n",
        "    stringlist = []\n",
        "    model.summary(print_fn=lambda x: stringlist.append(x))\n",
        "    sms = \"\\n\".join(stringlist)\n",
        "    sms = re.sub('_\\d\\d\\d','', sms)\n",
        "    sms = re.sub('_\\d\\d','', sms)\n",
        "    sms = re.sub('_\\d','', sms)  \n",
        "    return sms\n",
        "\n",
        "###Getting the csv data loaded\n",
        "\n",
        "dataset_url = 'https://drive.google.com/uc?id=1xFiYsULlQWWmi2Ai0fHjtApniP5Pscuf'\n",
        "dataset_path = './ferdata.csv'\n",
        "gdown.download(dataset_url, dataset_path, True)\n",
        "\n",
        "###Getting the Dlib Shape predictor!\n",
        "\n",
        "dlibshape_url = 'https://drive.google.com/uc?id=17D3D89Gke6i5nKOvmsbPslrGg5rVgOwg'\n",
        "dlibshape_path ='./shape_predictor_68_face_landmarks.dat'\n",
        "gdown.download(dlibshape_url, dlibshape_path, True)\n",
        "\n",
        "###Getting the Xpure loaded\n",
        "\n",
        "pureX_url = 'https://drive.google.com/uc?id=1CglpXodenZVrkaZehLtfykfQv8dcnfO9'\n",
        "pureX_path = './pureX.npy'\n",
        "gdown.download(pureX_url, pureX_path,True)\n",
        "\n",
        "###Getting the Xdata loaded\n",
        "\n",
        "dataX_url = 'https://drive.google.com/uc?id=1sIJGxUM6rNBcWxucs6iynDepeKU1Q56p'\n",
        "dataX_path = './dataX.npy'\n",
        "gdown.download(dataX_url, dataX_path, True)\n",
        "\n",
        "\n",
        "###Getting the Ydata loaded\n",
        "\n",
        "dataY_url = 'https://drive.google.com/uc?id=1Rfr0OP-hZO_UZfuOyMNR2RjNRAro85zE'\n",
        "dataY_path = './dataY.npy'\n",
        "gdown.download(dataY_url, dataY_path, True)\n",
        "\n",
        "\n",
        "print (\"Data Downloaded!\")\n",
        "\n",
        "\n",
        "'''\n",
        "Plots the confusion Matrix and saves it\n",
        "'''\n",
        "def plot_confusion_matrix(y_true,y_predicted):\n",
        "  cm = metrics.confusion_matrix(y_true, y_predicted)\n",
        "  print (\"Plotting the Confusion Matrix\")\n",
        "  labels = list(label_map.values())\n",
        "  df_cm = pd.DataFrame(cm,index = labels,columns = labels)\n",
        "  fig = plt.figure()\n",
        "  res = sns.heatmap(df_cm, annot=True,cmap='Blues', fmt='g')\n",
        "  plt.yticks([0.5,1.5,2.5,3.5,4.5], labels,va='center')\n",
        "  plt.title('Confusion Matrix - TestData')\n",
        "  plt.ylabel('True label')\n",
        "  plt.xlabel('Predicted label')\n",
        " \n",
        "  plt.show()\n",
        "  plt.close()\n",
        "\n",
        "def plot_graphs(history, best):\n",
        "  \n",
        "  plt.figure(figsize=[10,4])\n",
        "  # summarize history for accuracy\n",
        "  plt.subplot(121)\n",
        "  plt.plot(history.history['acc'])\n",
        "  plt.plot(history.history['val_acc'])\n",
        "  plt.title('model accuracy across training\\n best accuracy of %.02f'%best[1])\n",
        "  plt.ylabel('accuracy')\n",
        "  plt.xlabel('epoch')\n",
        "  plt.legend(['train', 'test'], loc='upper left')\n",
        "  \n",
        "  # summarize history for loss\n",
        "  plt.subplot(122)\n",
        "  plt.plot(history.history['loss'])\n",
        "  plt.plot(history.history['val_loss'])\n",
        "  plt.title('model loss across training\\n best loss of %.02f'%best[0])\n",
        "  plt.ylabel('loss')\n",
        "  plt.xlabel('epoch')\n",
        "  plt.legend(['train', 'test'], loc='upper left')\n",
        "  plt.show()\n",
        "\n",
        "#Integer to Label Mapping\n",
        "label_map = {\"0\":\"ANGRY\",\"1\":\"HAPPY\",\"2\":\"SAD\",\"3\":\"SURPRISE\",\"4\":\"NEUTRAL\"}\n",
        "\n",
        "\n",
        "#Load the 68 face Landmark file\n",
        "predictor = dlib.shape_predictor('./shape_predictor_68_face_landmarks.dat')\n",
        "\"\"\"\n",
        "Returns facial landmarks for the given input image path\n",
        "\"\"\"\n",
        "def get_landmarks(image):\n",
        "  \n",
        "  \n",
        "  #:type image : cv2 object\n",
        "  #:rtype landmarks : list of tuples where each tuple represents \n",
        "  #                  the x and y co-ordinates of facial keypoints\n",
        "  \n",
        "  #Bounding Box co-ordinates around the face(Training data is 48*48(cropped faces))\n",
        "  rects = [dlib.rectangle(left=1, top=1, right=47, bottom=47)]\n",
        "\n",
        "  #Read Image using OpenCV\n",
        "  #image = cv2.imread(image_path)\n",
        "  #Detect the Faces within the image\n",
        "  landmarks = [(p.x, p.y) for p in predictor(image, rects[0]).parts()]\n",
        "  return image,landmarks\n",
        "\n",
        "\"\"\"\n",
        "Display image with its Facial Landmarks\n",
        "\"\"\"\n",
        "def image_landmarks(image,face_landmarks):\n",
        "  \"\"\"\n",
        "  :type image_path : str\n",
        "  :type face_landmarks : list of tuples where each tuple represents \n",
        "                     the x and y co-ordinates of facial keypoints\n",
        "  :rtype : None\n",
        "  \"\"\"\n",
        "  radius = -4\n",
        "  circle_thickness = 1\n",
        "  image_copy = image.copy()\n",
        "  for (x, y) in face_landmarks:\n",
        "    cv2.circle(image_copy, (x, y), circle_thickness, (255,0,0), radius)\n",
        "    \n",
        "  plt.imshow(image_copy, interpolation='nearest')\n",
        "  plt.show()\n",
        "  \n",
        "\"\"\"\n",
        "Computes euclidean distance between 68 Landmark Points for our features\n",
        "e_dist is a list of features that will go into our model.\n",
        "Each feature is a distance between two landmark points, and every pair of points\n",
        "must have a feature.\n",
        "\"\"\"\n",
        "  \n",
        "def landmarks_edist(face_landmarks):\n",
        "    e_dist = []\n",
        "    for i in range(len(face_landmarks)):\n",
        "        for j in range(len(face_landmarks)):\n",
        "            if i!= j:\n",
        "                e_dist.append(distance.euclidean(face_landmarks[i],face_landmarks[j]))\n",
        "    return e_dist\n",
        "  \n",
        "def compare_learning(mlp, lm, cnn, vgg): # there's one model missing: MLP from pixels\n",
        "  \n",
        "  # summarize history for accuracy\n",
        "  plt.plot(vgg.history['val_acc'],)\n",
        "  plt.plot(cnn.history['val_acc'])\n",
        "  plt.plot(mlp.history['val_acc'],)\n",
        "  plt.plot(lm.history['val_acc'])\n",
        "  plt.ylabel('validitation accuracy')\n",
        "  plt.xlabel('epoch')\n",
        "  plt.legend(['cnn_transfer', 'cnn_scratch', 'mlp_pixels', 'mlp_landmarks'], bbox_to_anchor=[1,1])\n",
        "  plt.xticks(range(0, epochs+1, 5), range(0, epochs+1, 5))\n",
        "  plt.show()\n"
      ],
      "execution_count": 4,
      "outputs": [
        {
          "output_type": "stream",
          "text": [
            "Data Downloaded!\n"
          ],
          "name": "stdout"
        }
      ]
    },
    {
      "cell_type": "markdown",
      "metadata": {
        "id": "xq10yh_OuVlg",
        "colab_type": "text"
      },
      "source": [
        "#Understanding and building Neural Networks"
      ]
    },
    {
      "cell_type": "markdown",
      "metadata": {
        "id": "OOfhabJ_4hvE",
        "colab_type": "text"
      },
      "source": [
        "A neural network is a series of algorithms that endeavors to recognize underlying relationships in a set of data through a process that mimics the way the human brain operates. Basically, neural network algorithm helps computers think and learn like humans.\n",
        "\n",
        "The whole idea of artificial neural network is based on the concept of the structure and functions of a human brain. A human brain consists of neurons that process and transmit information between themselves."
      ]
    },
    {
      "cell_type": "markdown",
      "metadata": {
        "id": "4DcLenvXu7th",
        "colab_type": "text"
      },
      "source": [
        "### Why try neural networks?"
      ]
    },
    {
      "cell_type": "markdown",
      "metadata": {
        "id": "s77Fm2CbvZi7",
        "colab_type": "text"
      },
      "source": [
        "Our Baseline model performed at ~50 %\n",
        "\n",
        "Human accuracy for fer2013 is around 65 %, suggesting that we could do better!\n",
        "\n",
        "What we require now is a model that can capture more complicated patterns. One class of models that is able to do this and has been very effective for doing this for images are neural networks. \n",
        "\n",
        "\n",
        "### What are neural networks?\n"
      ]
    },
    {
      "cell_type": "markdown",
      "metadata": {
        "id": "ZB_uPibnv2UG",
        "colab_type": "text"
      },
      "source": [
        "## Building networks\n",
        "\n",
        "To build neural networks in Python, we use the packages known as `tensorflow` and `keras`. Let's learn how to build and use these networks!\n",
        "\n",
        "Tensorflow calls the various machine learning algorithms that it uses 'models'.  These 'models' are 'learning machines.''\n",
        "\n",
        "1. We **teach** models by **training** them on **data**. \n",
        "2. We **use** models to **predict** things. \n",
        "\n",
        "Here is example code for building a Tensorflow model with Keras:"
      ]
    },
    {
      "cell_type": "markdown",
      "metadata": {
        "id": "RUtJ7_FkkPr-",
        "colab_type": "text"
      },
      "source": [
        "The things you'll want to pay most attention to as we go over how to build networks are: \n",
        "1. The number of neurons\n",
        "2. The activation of the neurons\n",
        "3. The losses and metrics\n",
        "\n",
        "Everything else will work with the default settings!\n",
        "\n",
        "Let's walk though what each of these lines of code means!\n",
        "\n",
        "**1. Specify model**\n",
        "\n",
        "```\n",
        "model = Sequential()\n",
        "```\n",
        "In this line of code, we build our network where the information flows from LEFT to RIGHT through the network in ONE DIRECTION as opposed to multiple directions. Neurons on the right never pass informations to neurons on the left of it. \n",
        "\n",
        "\n",
        "**2. Add layers to the network**\n",
        "```\n",
        "model.add(Dense(4,input_shape = (3,), activation = 'sigmoid'))\n",
        "```\n",
        "In this code, we `add` a `layer` of neurons to our network. \n",
        "\n",
        "This layers consists of 4 neurons. Each neuron is DENSE and connects to all of the previous layer's inputs and all of the subsequent layers outputs. We specify that there are 3 inputs here.\n",
        "\n",
        "We also specify what kind of output the neuron will give. If you want the neuron to output a number between 0 and 1 (like a probability!) you would use 'softmax' or 'sigmoid'. If you want the neuron to output any number, you can use 'linear'! You'll also often see 'relu', which is when a neuron will only output positive numbers. \n",
        "\n",
        "```\n",
        "model.add(Dense(1, activation = 'softmax'))\n",
        "```\n",
        "This code adds ANOTHER layer to the network that has 1 neuron. This one neuron is used to predict a continuous value!\n",
        "\n",
        "**3. Turn the model on by compiling it** \n",
        "\n",
        "After having built the network, we want to train and use it, so we have to 'turn it on' and 'compile' it. To turn it on, we have to specify at the very least, a loss, an optimizer, and some ways of evaluating the model (metrics). Don't worry too much about what this means! Just know that this is necessary. \n",
        "\n",
        "```\n",
        "model.compile(loss='mean_squared_error',\n",
        "               optimizer = 'adam',\n",
        "               metrics = ['mean_squared_error'])\n",
        "  ```\n",
        "  \n",
        "  Once we've created our network, we can use it very simply! Just like we did with sklearn, we define our input data (x), the true predictions from that data (y), and then train our model with `fit`. \n",
        "\n",
        "```\n",
        "model.fit(x, y)\n",
        "```\n",
        "\n",
        "To use the model, you can use it to predict something with:\n",
        "```\n",
        "y = model.predict_classes(x)\n",
        "```\n",
        "\n"
      ]
    },
    {
      "cell_type": "markdown",
      "metadata": {
        "id": "YJXxWYXcwoGn",
        "colab_type": "text"
      },
      "source": [
        "##Coding a 2 hidden layer MLP\n",
        "\n",
        "Just as we went over last week, neural networks look something like this: \n",
        "\n",
        "![A 2 layer neural network](https://cdn-images-1.medium.com/max/1600/1*DW0Ccmj1hZ0OvSXi7Kz5MQ.jpeg)\n",
        "\n",
        "Each orange and blue node is a neuron. The network itself is composed of a bunch of neurons that talk to each other and eventually give us a prediction. Let's get a bit more concrete with this..."
      ]
    },
    {
      "cell_type": "markdown",
      "metadata": {
        "id": "2MamYyRf16Ii",
        "colab_type": "text"
      },
      "source": [
        "### How can we build this network above? Fill in the ___ 's below "
      ]
    },
    {
      "cell_type": "code",
      "metadata": {
        "id": "g1FadMwUkOwV",
        "colab_type": "code",
        "colab": {
          "base_uri": "https://localhost:8080/",
          "height": 34
        },
        "outputId": "8415ad47-d314-455d-f796-16f39793ef5a"
      },
      "source": [
        "# First, we initialize our model\n",
        "tmp_model = Sequential()\n",
        "# then we add a \"Dense\" (i.e. fully connected) layer\n",
        "tmp_model.add(Dense(7, input_shape=(5,), activation = 'relu')) # for the first layer we specify the input dimensions \n",
        "# then we have to add another layer \n",
        "tmp_model.add(Dense(7, activation = 'relu'))\n",
        "# we end by defining the output layer, which has the number of dimensions of the predictions we're making\n",
        "tmp_model.add(Dense(4, activation = 'linear'))\n",
        "# we finalize the model by \"compiling\" it and defining some other hyperparameters \n",
        "tmp_model.compile(loss='mean_squared_error', optimizer='adam', metrics=['mean_squared_error'])\n",
        "print(\"model initialized\")"
      ],
      "execution_count": 6,
      "outputs": [
        {
          "output_type": "stream",
          "text": [
            "model initialized\n"
          ],
          "name": "stdout"
        }
      ]
    },
    {
      "cell_type": "markdown",
      "metadata": {
        "id": "-rrqPkJWVLOY",
        "colab_type": "text"
      },
      "source": [
        "## Building our custom neural network"
      ]
    },
    {
      "cell_type": "markdown",
      "metadata": {
        "id": "25DoFvA0VWnq",
        "colab_type": "text"
      },
      "source": [
        "###Keypoints"
      ]
    },
    {
      "cell_type": "markdown",
      "metadata": {
        "id": "tchJVYOTVZAh",
        "colab_type": "text"
      },
      "source": [
        "We will build a simple 3-layer network for our first model!\n",
        "\n",
        "\n",
        "For our model, we have as our layers: \n",
        "* Input Layer:  However many inputs there are!\n",
        "* Layer 1 (Hidden): 1024 neurons that are activated by `'relu'` and weights are intialized using `kernel_initializer='glorot_normal'`. Specify the input shape as `(4556,)`.\n",
        "* Layer 2 (Hidden): 512 neurons that are activated by `'relu'` and weights are intialized using `kernel_initializer='glorot_normal'`\n",
        "* Layer 3 (Output): 5 neuron that should have an appropriate activation. \n",
        "* We will compile with the `optimizers.SGD(lr=0.001)` optimizer\n",
        "\n",
        "As a hint for the output activation and the compilation loss, we know that:\n",
        "* Multi-class classification problems require an output activation of `'softmax'` and a loss of `'categorical_crossentropy'`\n",
        "\n",
        "\n"
      ]
    },
    {
      "cell_type": "markdown",
      "metadata": {
        "id": "sv3U4FxbVyfs",
        "colab_type": "text"
      },
      "source": [
        "###Build your Model"
      ]
    },
    {
      "cell_type": "code",
      "metadata": {
        "id": "WJh4klMtV3Q_",
        "colab_type": "code",
        "colab": {}
      },
      "source": [
        "perceptron = Sequential()\n",
        "perceptron.add(Dense(units = 1024, input_shape = (4556,),kernel_initializer='glorot_normal',activation = 'relu'))\n",
        "perceptron.add(Dense(units = 512,kernel_initializer='glorot_normal' , activation = 'relu'))\n",
        "perceptron.add(Dense(units = 5, activation = 'softmax'))\n",
        "perceptron.compile(loss='categorical_crossentropy', optimizer=SGD(lr=0.001), metrics=['acc'])"
      ],
      "execution_count": 55,
      "outputs": []
    },
    {
      "cell_type": "markdown",
      "metadata": {
        "id": "AgQEGSXJueyV",
        "colab_type": "text"
      },
      "source": [
        "###Keras Neural Network Model Hyperparameters\n",
        "\n",
        "Neural Network performance depends a lot on *how much* they train. As we'll see, they usually get better with more training BUT actually can get worse with too much training. With too much training, our model can get overconfident in its abilities with the training manual (overfitting), and so doesn't actually think (generalize) when it is tested. \n",
        "\n",
        "The  `fit()` function pertain to how the neural networks train. Don't worry too much about the extra options, what really matters for us is that the right data is specified.\n",
        "\n",
        "\n",
        "What are all these options?\n",
        "* `epochs`: how many times the model trains on the entire data set\n",
        "* `batch_size`: number of samples processed at a time\n",
        "* `shuffle`: mixes the training dataset so the model pays better attention to the data and learns better while training\n",
        "* `validation_data`: we request that our model tests itself on the `test_data` after every epoch. **It is essential to use validation data to test for overfitting!**\n",
        "* `callbacks`: With a custom command, we tell our model to save the best version of itself to a model file called `best_dnn_model.h5`. \n"
      ]
    },
    {
      "cell_type": "markdown",
      "metadata": {
        "id": "PVGGls_AqY8f",
        "colab_type": "text"
      },
      "source": [
        "### Set Hyper parameters that will be used across all models"
      ]
    },
    {
      "cell_type": "code",
      "metadata": {
        "id": "H82XugWsqPly",
        "colab_type": "code",
        "colab": {}
      },
      "source": [
        "# the number of times we pass all the training data through the model \n",
        "epochs = 20\n",
        "# the number of examples we pass to the model at each time\n",
        "batch_size = 64\n",
        "# the proportion of testing data we set aside (e.g. 10%)\n",
        "test_ratio = .1\n",
        "# the number of emotion categories we have to predict\n",
        "n_labels = 5"
      ],
      "execution_count": 56,
      "outputs": []
    },
    {
      "cell_type": "markdown",
      "metadata": {
        "id": "TbwcRsNLRW8s",
        "colab_type": "text"
      },
      "source": [
        "### load all data"
      ]
    },
    {
      "cell_type": "code",
      "metadata": {
        "id": "-g1Q0i6L3yFb",
        "colab_type": "code",
        "colab": {}
      },
      "source": [
        "########### PIXEL DATA\n",
        "# load the raw pixel values (in vector form)\n",
        "dataX_pixels = np.load('pureX.npy')\n",
        "dataY = np.load('dataY.npy')\n",
        "\n",
        "# convert labels to one hot encoding\n",
        "y_onehot = keras.utils.to_categorical(dataY, len(set(dataY)))\n",
        "\n",
        "# split Data into Train, Test (90-10)\n",
        "X_train, X_test, y_train, y_test = train_test_split(dataX_pixels, y_onehot, test_size=test_ratio, random_state=42)\n",
        "\n",
        "#### standardize the data ##########\n",
        "pixel_scaler = StandardScaler()\n",
        "pixel_scaler.fit(X_train)\n",
        "X_train = pixel_scaler.transform(X_train)\n",
        "X_test = pixel_scaler.transform(X_test)"
      ],
      "execution_count": 57,
      "outputs": []
    },
    {
      "cell_type": "code",
      "metadata": {
        "id": "WZ08nKQzpjAF",
        "colab_type": "code",
        "colab": {}
      },
      "source": [
        "########## LANDMARK DATA\n",
        "# load landmark (lm) data\n",
        "dataX_lm = np.load('./dataX.npy')\n",
        "# we don't need dataY for this--it's the same as for the pixle-level data\n",
        "\n",
        "# split Data into Train, Test (90-10)\n",
        "X_train_lm, X_test_lm, y_train_lm, y_test_lm = train_test_split(dataX_lm, y_onehot, test_size=0.1, random_state=42)\n",
        "\n",
        "#### Standardize the data ##########\n",
        "lm_scaler = StandardScaler()\n",
        "lm_scaler.fit(X_train_lm)\n",
        "X_train_lm = lm_scaler.transform(X_train_lm)\n",
        "X_test_lm = lm_scaler.transform(X_test_lm)"
      ],
      "execution_count": 58,
      "outputs": []
    },
    {
      "cell_type": "markdown",
      "metadata": {
        "id": "oeb1iFnZw3W1",
        "colab_type": "text"
      },
      "source": [
        "#Applying Neural Networks (MLPs) to predicting emotions"
      ]
    },
    {
      "cell_type": "markdown",
      "metadata": {
        "id": "kGdpkyMmqs-G",
        "colab_type": "text"
      },
      "source": [
        "### Loading and formatting data for all models in notebook "
      ]
    },
    {
      "cell_type": "markdown",
      "metadata": {
        "id": "iaQQkwNsHGSM",
        "colab_type": "text"
      },
      "source": [
        "## Exercise: Build a simple MLP for emotion detection"
      ]
    },
    {
      "cell_type": "code",
      "metadata": {
        "id": "QBk3kFJSgQJ0",
        "colab_type": "code",
        "cellView": "both",
        "colab": {}
      },
      "source": [
        "mlp_model = Sequential()\n",
        "mlp_model.add(Dense(5120, activation='relu',kernel_initializer='glorot_normal', input_shape=( X_train.shape[1]   ,)))\n",
        "mlp_model.add(Dropout(0.5))\n",
        "mlp_model.add(Dense(512,kernel_initializer='glorot_normal', activation='relu'))\n",
        "mlp_model.add(Dropout(0.5))\n",
        "mlp_model.add(Dense(256,kernel_initializer='glorot_normal', activation='relu'))\n",
        "mlp_model.add(Dropout(0.5))\n",
        "mlp_model.add(Dense(n_labels, activation='softmax'))\n"
      ],
      "execution_count": 59,
      "outputs": []
    },
    {
      "cell_type": "code",
      "metadata": {
        "id": "b60dEhhA1-Ii",
        "colab_type": "code",
        "colab": {
          "base_uri": "https://localhost:8080/",
          "height": 34
        },
        "outputId": "6a9bb0cb-35e6-4bdb-ed0f-80a5f1b936d2"
      },
      "source": [
        "X_train.shape[1]"
      ],
      "execution_count": 60,
      "outputs": [
        {
          "output_type": "execute_result",
          "data": {
            "text/plain": [
              "2304"
            ]
          },
          "metadata": {
            "tags": []
          },
          "execution_count": 60
        }
      ]
    },
    {
      "cell_type": "code",
      "metadata": {
        "id": "7A9izhcybGlh",
        "colab_type": "code",
        "colab": {
          "base_uri": "https://localhost:8080/",
          "height": 391
        },
        "outputId": "47a4532f-a4c0-44a3-dd71-5de85fe278c8"
      },
      "source": [
        "mlp_model.summary()"
      ],
      "execution_count": 61,
      "outputs": [
        {
          "output_type": "stream",
          "text": [
            "Model: \"sequential_13\"\n",
            "_________________________________________________________________\n",
            "Layer (type)                 Output Shape              Param #   \n",
            "=================================================================\n",
            "dense_37 (Dense)             (None, 5120)              11801600  \n",
            "_________________________________________________________________\n",
            "dropout_19 (Dropout)         (None, 5120)              0         \n",
            "_________________________________________________________________\n",
            "dense_38 (Dense)             (None, 512)               2621952   \n",
            "_________________________________________________________________\n",
            "dropout_20 (Dropout)         (None, 512)               0         \n",
            "_________________________________________________________________\n",
            "dense_39 (Dense)             (None, 256)               131328    \n",
            "_________________________________________________________________\n",
            "dropout_21 (Dropout)         (None, 256)               0         \n",
            "_________________________________________________________________\n",
            "dense_40 (Dense)             (None, 5)                 1285      \n",
            "=================================================================\n",
            "Total params: 14,556,165\n",
            "Trainable params: 14,556,165\n",
            "Non-trainable params: 0\n",
            "_________________________________________________________________\n"
          ],
          "name": "stdout"
        }
      ]
    },
    {
      "cell_type": "code",
      "metadata": {
        "id": "IwYofcaXzWVa",
        "colab_type": "code",
        "colab": {}
      },
      "source": [
        "# Compiling the model with SGD optimixer and categorical crossentropy loss\n",
        "mlp_model.compile(loss=categorical_crossentropy, optimizer=SGD(lr=0.001), metrics=['acc'])\n",
        "              \n",
        "#Saves the Best Model Based on Val Loss\n",
        "checkpoint = ModelCheckpoint('best_mlp_model.h5', verbose=1, monitor='val_acc', save_best_only=True,  mode='auto')  "
      ],
      "execution_count": 62,
      "outputs": []
    },
    {
      "cell_type": "code",
      "metadata": {
        "id": "84SdUBXibWmK",
        "colab_type": "code",
        "colab": {
          "base_uri": "https://localhost:8080/",
          "height": 1000
        },
        "outputId": "0b16989e-b655-41c0-aba3-c5d60b1a2c47"
      },
      "source": [
        "#training the model\n",
        "mlp_history = mlp_model.fit(X_train, y_train, batch_size=batch_size, epochs=epochs, verbose=1, \n",
        "                            callbacks=[checkpoint], validation_data=(X_test, y_test), shuffle=True)"
      ],
      "execution_count": 63,
      "outputs": [
        {
          "output_type": "stream",
          "text": [
            "Train on 18000 samples, validate on 2000 samples\n",
            "Epoch 1/20\n",
            "18000/18000 [==============================] - 2s 87us/step - loss: 2.0744 - acc: 0.2246 - val_loss: 1.5625 - val_acc: 0.2770\n",
            "\n",
            "Epoch 00001: val_acc improved from -inf to 0.27700, saving model to best_mlp_model.h5\n",
            "Epoch 2/20\n",
            "18000/18000 [==============================] - 1s 83us/step - loss: 1.8157 - acc: 0.2455 - val_loss: 1.5442 - val_acc: 0.3005\n",
            "\n",
            "Epoch 00002: val_acc improved from 0.27700 to 0.30050, saving model to best_mlp_model.h5\n",
            "Epoch 3/20\n",
            "18000/18000 [==============================] - 1s 83us/step - loss: 1.7256 - acc: 0.2596 - val_loss: 1.5435 - val_acc: 0.3125\n",
            "\n",
            "Epoch 00003: val_acc improved from 0.30050 to 0.31250, saving model to best_mlp_model.h5\n",
            "Epoch 4/20\n",
            "18000/18000 [==============================] - 1s 82us/step - loss: 1.6708 - acc: 0.2641 - val_loss: 1.5397 - val_acc: 0.3185\n",
            "\n",
            "Epoch 00004: val_acc improved from 0.31250 to 0.31850, saving model to best_mlp_model.h5\n",
            "Epoch 5/20\n",
            "18000/18000 [==============================] - 1s 82us/step - loss: 1.6419 - acc: 0.2726 - val_loss: 1.5377 - val_acc: 0.3280\n",
            "\n",
            "Epoch 00005: val_acc improved from 0.31850 to 0.32800, saving model to best_mlp_model.h5\n",
            "Epoch 6/20\n",
            "18000/18000 [==============================] - 1s 83us/step - loss: 1.6222 - acc: 0.2754 - val_loss: 1.5322 - val_acc: 0.3395\n",
            "\n",
            "Epoch 00006: val_acc improved from 0.32800 to 0.33950, saving model to best_mlp_model.h5\n",
            "Epoch 7/20\n",
            "18000/18000 [==============================] - 1s 82us/step - loss: 1.5973 - acc: 0.2919 - val_loss: 1.5286 - val_acc: 0.3455\n",
            "\n",
            "Epoch 00007: val_acc improved from 0.33950 to 0.34550, saving model to best_mlp_model.h5\n",
            "Epoch 8/20\n",
            "18000/18000 [==============================] - 2s 83us/step - loss: 1.5831 - acc: 0.2917 - val_loss: 1.5254 - val_acc: 0.3535\n",
            "\n",
            "Epoch 00008: val_acc improved from 0.34550 to 0.35350, saving model to best_mlp_model.h5\n",
            "Epoch 9/20\n",
            "18000/18000 [==============================] - 2s 86us/step - loss: 1.5706 - acc: 0.3007 - val_loss: 1.5200 - val_acc: 0.3475\n",
            "\n",
            "Epoch 00009: val_acc did not improve from 0.35350\n",
            "Epoch 10/20\n",
            "18000/18000 [==============================] - 1s 82us/step - loss: 1.5677 - acc: 0.2999 - val_loss: 1.5165 - val_acc: 0.3525\n",
            "\n",
            "Epoch 00010: val_acc did not improve from 0.35350\n",
            "Epoch 11/20\n",
            "18000/18000 [==============================] - 1s 82us/step - loss: 1.5527 - acc: 0.3094 - val_loss: 1.5143 - val_acc: 0.3610\n",
            "\n",
            "Epoch 00011: val_acc improved from 0.35350 to 0.36100, saving model to best_mlp_model.h5\n",
            "Epoch 12/20\n",
            "18000/18000 [==============================] - 1s 82us/step - loss: 1.5429 - acc: 0.3142 - val_loss: 1.5085 - val_acc: 0.3670\n",
            "\n",
            "Epoch 00012: val_acc improved from 0.36100 to 0.36700, saving model to best_mlp_model.h5\n",
            "Epoch 13/20\n",
            "18000/18000 [==============================] - 1s 81us/step - loss: 1.5386 - acc: 0.3213 - val_loss: 1.5050 - val_acc: 0.3630\n",
            "\n",
            "Epoch 00013: val_acc did not improve from 0.36700\n",
            "Epoch 14/20\n",
            "18000/18000 [==============================] - 1s 80us/step - loss: 1.5319 - acc: 0.3234 - val_loss: 1.5010 - val_acc: 0.3665\n",
            "\n",
            "Epoch 00014: val_acc did not improve from 0.36700\n",
            "Epoch 15/20\n",
            "18000/18000 [==============================] - 1s 79us/step - loss: 1.5178 - acc: 0.3299 - val_loss: 1.4967 - val_acc: 0.3760\n",
            "\n",
            "Epoch 00015: val_acc improved from 0.36700 to 0.37600, saving model to best_mlp_model.h5\n",
            "Epoch 16/20\n",
            "18000/18000 [==============================] - 2s 84us/step - loss: 1.5181 - acc: 0.3252 - val_loss: 1.4924 - val_acc: 0.3820\n",
            "\n",
            "Epoch 00016: val_acc improved from 0.37600 to 0.38200, saving model to best_mlp_model.h5\n",
            "Epoch 17/20\n",
            "18000/18000 [==============================] - 1s 82us/step - loss: 1.5075 - acc: 0.3363 - val_loss: 1.4891 - val_acc: 0.3835\n",
            "\n",
            "Epoch 00017: val_acc improved from 0.38200 to 0.38350, saving model to best_mlp_model.h5\n",
            "Epoch 18/20\n",
            "18000/18000 [==============================] - 1s 82us/step - loss: 1.5050 - acc: 0.3344 - val_loss: 1.4860 - val_acc: 0.3885\n",
            "\n",
            "Epoch 00018: val_acc improved from 0.38350 to 0.38850, saving model to best_mlp_model.h5\n",
            "Epoch 19/20\n",
            "18000/18000 [==============================] - 1s 82us/step - loss: 1.5014 - acc: 0.3375 - val_loss: 1.4836 - val_acc: 0.3825\n",
            "\n",
            "Epoch 00019: val_acc did not improve from 0.38850\n",
            "Epoch 20/20\n",
            "18000/18000 [==============================] - 1s 80us/step - loss: 1.4989 - acc: 0.3382 - val_loss: 1.4801 - val_acc: 0.3810\n",
            "\n",
            "Epoch 00020: val_acc did not improve from 0.38850\n"
          ],
          "name": "stdout"
        }
      ]
    },
    {
      "cell_type": "markdown",
      "metadata": {
        "id": "qF0MmGV8Lm7y",
        "colab_type": "text"
      },
      "source": [
        "##Neural Network Model Evaluation on pixel inputs"
      ]
    },
    {
      "cell_type": "markdown",
      "metadata": {
        "id": "ORXi0y71t3o8",
        "colab_type": "text"
      },
      "source": [
        "###Evaluate best model"
      ]
    },
    {
      "cell_type": "code",
      "metadata": {
        "id": "DnjfotXoth4e",
        "colab_type": "code",
        "colab": {
          "base_uri": "https://localhost:8080/",
          "height": 34
        },
        "outputId": "0bf440f7-a973-467b-ac98-9c779191f346"
      },
      "source": [
        "mlp_performance = mlp_model.evaluate(X_test, y_test, batch_size=64)"
      ],
      "execution_count": 64,
      "outputs": [
        {
          "output_type": "stream",
          "text": [
            "2000/2000 [==============================] - 0s 51us/step\n"
          ],
          "name": "stdout"
        }
      ]
    },
    {
      "cell_type": "markdown",
      "metadata": {
        "id": "3vgEP7OnGlR9",
        "colab_type": "text"
      },
      "source": [
        "###Visualize accuracy and loss over training + display best model's performance"
      ]
    },
    {
      "cell_type": "code",
      "metadata": {
        "id": "ktHNwzn0G73y",
        "colab_type": "code",
        "colab": {
          "base_uri": "https://localhost:8080/",
          "height": 310
        },
        "outputId": "442c0f52-62d0-489e-c2bf-f8e47626abf7"
      },
      "source": [
        "plot_graphs(mlp_history, mlp_performance); "
      ],
      "execution_count": 65,
      "outputs": [
        {
          "output_type": "display_data",
          "data": {
            "image/png": "[encoded data removed]",
            "text/plain": [
              "<Figure size 720x288 with 2 Axes>"
            ]
          },
          "metadata": {
            "tags": [],
            "needs_background": "light"
          }
        }
      ]
    },
    {
      "cell_type": "markdown",
      "metadata": {
        "id": "oPeyL20OFzjN",
        "colab_type": "text"
      },
      "source": [
        "###Plot the Confusion Matrix"
      ]
    },
    {
      "cell_type": "code",
      "metadata": {
        "id": "MgkxPwg2F7eL",
        "colab_type": "code",
        "colab": {
          "base_uri": "https://localhost:8080/",
          "height": 312
        },
        "outputId": "667acb28-37e5-44e8-ce1f-1f00ca787dda"
      },
      "source": [
        "y_pred_mlp = mlp_model.predict_classes(X_test)\n",
        "y_true = np.argmax(y_test,axis=1)\n",
        "plot_confusion_matrix(y_true, y_pred_mlp)"
      ],
      "execution_count": 66,
      "outputs": [
        {
          "output_type": "stream",
          "text": [
            "Plotting the Confusion Matrix\n"
          ],
          "name": "stdout"
        },
        {
          "output_type": "display_data",
          "data": {
            "image/png": "[encoded data removed]",
            "text/plain": [
              "<Figure size 432x288 with 2 Axes>"
            ]
          },
          "metadata": {
            "tags": [],
            "needs_background": "light"
          }
        }
      ]
    },
    {
      "cell_type": "markdown",
      "metadata": {
        "id": "XqLIJTjW0JE_",
        "colab_type": "text"
      },
      "source": [
        "##Neural Network Model Evaluation on distance inputs\n",
        "\n",
        "We saw yesterday that building a model on the distances between facial landmarks did better than on raw pixel inputs, is this true for these models as well? "
      ]
    },
    {
      "cell_type": "code",
      "metadata": {
        "id": "k-aKmK6e0a4J",
        "colab_type": "code",
        "colab": {}
      },
      "source": [
        "#Load the data (Distances between facial Landmarks)\n",
        "dataX_lm = np.load('./dataX.npy')\n",
        "#dataY_lm = np.load('./dataY.npy')\n",
        "\n",
        "# convert labels to one hot encoding\n",
        "#y_onehot = keras.utils.to_categorical(dataY_lm, len(set(dataY_lm)))\n",
        "\n",
        "# split Data into Train, Test (90-10)\n",
        "X_train_lm, X_test_lm, y_train_lm, y_test_lm = train_test_split(dataX_lm, y_onehot, test_size=0.1, random_state=42)\n",
        "\n",
        "#### Standardize the data ##########\n",
        "lm_scaler = StandardScaler()\n",
        "lm_scaler.fit(X_train_lm)\n",
        "X_train_lm = lm_scaler.transform(X_train_lm)\n",
        "X_test_lm = lm_scaler.transform(X_test_lm)"
      ],
      "execution_count": 67,
      "outputs": []
    },
    {
      "cell_type": "code",
      "metadata": {
        "id": "OPub4NX31R3q",
        "colab_type": "code",
        "colab": {}
      },
      "source": [
        "lm_model = Sequential()\n",
        "lm_model.add(Dense(5120, activation='relu',kernel_initializer='glorot_normal', input_shape=( X_train_lm.shape[1]   ,)))\n",
        "lm_model.add(Dropout(0.2))\n",
        "lm_model.add(Dense(512,kernel_initializer='glorot_normal', activation='relu'))\n",
        "lm_model.add(Dropout(0.2))\n",
        "lm_model.add(Dense(256,kernel_initializer='glorot_normal', activation='relu'))\n",
        "lm_model.add(Dropout(0.2))\n",
        "lm_model.add(Dense(n_labels, activation='softmax'))"
      ],
      "execution_count": 68,
      "outputs": []
    },
    {
      "cell_type": "code",
      "metadata": {
        "id": "_QEUcTxh7Ara",
        "colab_type": "code",
        "colab": {
          "base_uri": "https://localhost:8080/",
          "height": 1000
        },
        "outputId": "e1dcf4a2-754c-46d9-9c1b-89c93239b2c3"
      },
      "source": [
        "# Compliling the model with SGD optimixer and categorical crossentropy loss\n",
        "lm_model.compile(loss=categorical_crossentropy, optimizer=SGD(lr=0.001), metrics=['acc'])\n",
        "\n",
        "#Saves the Best Model Based on Val Loss\n",
        "checkpoint = ModelCheckpoint('best_lm_model.h5', verbose=1, monitor='val_loss',save_best_only=True,  mode='auto')  \n",
        "#training the model\n",
        "lm_history = lm_model.fit(X_train_lm, y_train_lm, batch_size=batch_size, epochs=epochs, \n",
        "                          verbose=1, callbacks=[checkpoint], validation_data=(X_test_lm, y_test_lm), shuffle=True)"
      ],
      "execution_count": 69,
      "outputs": [
        {
          "output_type": "stream",
          "text": [
            "Train on 18000 samples, validate on 2000 samples\n",
            "Epoch 1/20\n",
            "18000/18000 [==============================] - 2s 117us/step - loss: 1.4979 - acc: 0.3686 - val_loss: 1.3084 - val_acc: 0.4685\n",
            "\n",
            "Epoch 00001: val_loss improved from inf to 1.30838, saving model to best_lm_model.h5\n",
            "Epoch 2/20\n",
            "18000/18000 [==============================] - 2s 113us/step - loss: 1.3615 - acc: 0.4339 - val_loss: 1.2684 - val_acc: 0.4755\n",
            "\n",
            "Epoch 00002: val_loss improved from 1.30838 to 1.26840, saving model to best_lm_model.h5\n",
            "Epoch 3/20\n",
            "18000/18000 [==============================] - 2s 111us/step - loss: 1.3163 - acc: 0.4511 - val_loss: 1.2425 - val_acc: 0.4840\n",
            "\n",
            "Epoch 00003: val_loss improved from 1.26840 to 1.24246, saving model to best_lm_model.h5\n",
            "Epoch 4/20\n",
            "18000/18000 [==============================] - 2s 111us/step - loss: 1.2922 - acc: 0.4634 - val_loss: 1.2307 - val_acc: 0.4910\n",
            "\n",
            "Epoch 00004: val_loss improved from 1.24246 to 1.23071, saving model to best_lm_model.h5\n",
            "Epoch 5/20\n",
            "18000/18000 [==============================] - 2s 111us/step - loss: 1.2682 - acc: 0.4752 - val_loss: 1.2261 - val_acc: 0.4950\n",
            "\n",
            "Epoch 00005: val_loss improved from 1.23071 to 1.22613, saving model to best_lm_model.h5\n",
            "Epoch 6/20\n",
            "18000/18000 [==============================] - 2s 110us/step - loss: 1.2535 - acc: 0.4822 - val_loss: 1.2130 - val_acc: 0.5005\n",
            "\n",
            "Epoch 00006: val_loss improved from 1.22613 to 1.21304, saving model to best_lm_model.h5\n",
            "Epoch 7/20\n",
            "18000/18000 [==============================] - 2s 110us/step - loss: 1.2430 - acc: 0.4904 - val_loss: 1.2071 - val_acc: 0.4990\n",
            "\n",
            "Epoch 00007: val_loss improved from 1.21304 to 1.20715, saving model to best_lm_model.h5\n",
            "Epoch 8/20\n",
            "18000/18000 [==============================] - 2s 110us/step - loss: 1.2321 - acc: 0.4954 - val_loss: 1.2063 - val_acc: 0.5065\n",
            "\n",
            "Epoch 00008: val_loss improved from 1.20715 to 1.20631, saving model to best_lm_model.h5\n",
            "Epoch 9/20\n",
            "18000/18000 [==============================] - 2s 111us/step - loss: 1.2215 - acc: 0.4997 - val_loss: 1.1945 - val_acc: 0.5055\n",
            "\n",
            "Epoch 00009: val_loss improved from 1.20631 to 1.19445, saving model to best_lm_model.h5\n",
            "Epoch 10/20\n",
            "18000/18000 [==============================] - 2s 115us/step - loss: 1.2090 - acc: 0.5115 - val_loss: 1.1889 - val_acc: 0.5170\n",
            "\n",
            "Epoch 00010: val_loss improved from 1.19445 to 1.18894, saving model to best_lm_model.h5\n",
            "Epoch 11/20\n",
            "18000/18000 [==============================] - 2s 114us/step - loss: 1.2047 - acc: 0.5073 - val_loss: 1.1858 - val_acc: 0.5155\n",
            "\n",
            "Epoch 00011: val_loss improved from 1.18894 to 1.18579, saving model to best_lm_model.h5\n",
            "Epoch 12/20\n",
            "18000/18000 [==============================] - 2s 112us/step - loss: 1.1919 - acc: 0.5112 - val_loss: 1.1803 - val_acc: 0.5165\n",
            "\n",
            "Epoch 00012: val_loss improved from 1.18579 to 1.18034, saving model to best_lm_model.h5\n",
            "Epoch 13/20\n",
            "18000/18000 [==============================] - 2s 111us/step - loss: 1.1927 - acc: 0.5172 - val_loss: 1.1777 - val_acc: 0.5190\n",
            "\n",
            "Epoch 00013: val_loss improved from 1.18034 to 1.17766, saving model to best_lm_model.h5\n",
            "Epoch 14/20\n",
            "18000/18000 [==============================] - 2s 112us/step - loss: 1.1846 - acc: 0.5221 - val_loss: 1.1726 - val_acc: 0.5255\n",
            "\n",
            "Epoch 00014: val_loss improved from 1.17766 to 1.17260, saving model to best_lm_model.h5\n",
            "Epoch 15/20\n",
            "18000/18000 [==============================] - 2s 113us/step - loss: 1.1797 - acc: 0.5159 - val_loss: 1.1695 - val_acc: 0.5260\n",
            "\n",
            "Epoch 00015: val_loss improved from 1.17260 to 1.16953, saving model to best_lm_model.h5\n",
            "Epoch 16/20\n",
            "18000/18000 [==============================] - 2s 111us/step - loss: 1.1748 - acc: 0.5237 - val_loss: 1.1662 - val_acc: 0.5215\n",
            "\n",
            "Epoch 00016: val_loss improved from 1.16953 to 1.16616, saving model to best_lm_model.h5\n",
            "Epoch 17/20\n",
            "18000/18000 [==============================] - 2s 111us/step - loss: 1.1689 - acc: 0.5317 - val_loss: 1.1615 - val_acc: 0.5290\n",
            "\n",
            "Epoch 00017: val_loss improved from 1.16616 to 1.16148, saving model to best_lm_model.h5\n",
            "Epoch 18/20\n",
            "18000/18000 [==============================] - 2s 111us/step - loss: 1.1644 - acc: 0.5285 - val_loss: 1.1603 - val_acc: 0.5250\n",
            "\n",
            "Epoch 00018: val_loss improved from 1.16148 to 1.16033, saving model to best_lm_model.h5\n",
            "Epoch 19/20\n",
            "18000/18000 [==============================] - 2s 112us/step - loss: 1.1570 - acc: 0.5308 - val_loss: 1.1596 - val_acc: 0.5275\n",
            "\n",
            "Epoch 00019: val_loss improved from 1.16033 to 1.15964, saving model to best_lm_model.h5\n",
            "Epoch 20/20\n",
            "18000/18000 [==============================] - 2s 111us/step - loss: 1.1576 - acc: 0.5334 - val_loss: 1.1552 - val_acc: 0.5345\n",
            "\n",
            "Epoch 00020: val_loss improved from 1.15964 to 1.15515, saving model to best_lm_model.h5\n"
          ],
          "name": "stdout"
        }
      ]
    },
    {
      "cell_type": "markdown",
      "metadata": {
        "id": "Xb2ruZoq1YPO",
        "colab_type": "text"
      },
      "source": [
        "### Evaluate model"
      ]
    },
    {
      "cell_type": "code",
      "metadata": {
        "id": "IBOe-N6NgQag",
        "colab_type": "code",
        "colab": {
          "base_uri": "https://localhost:8080/",
          "height": 34
        },
        "outputId": "6c1cfb74-c412-40ad-db8b-a658560015b5"
      },
      "source": [
        "lm_performance = lm_model.evaluate(X_test_lm, y_test, batch_size=64)"
      ],
      "execution_count": 70,
      "outputs": [
        {
          "output_type": "stream",
          "text": [
            "2000/2000 [==============================] - 0s 59us/step\n"
          ],
          "name": "stdout"
        }
      ]
    },
    {
      "cell_type": "markdown",
      "metadata": {
        "id": "yj3XDT2eu31x",
        "colab_type": "text"
      },
      "source": [
        "###Visualize accuracy and loss over training + display best model's performance"
      ]
    },
    {
      "cell_type": "code",
      "metadata": {
        "id": "kG1V_8AIs9Xf",
        "colab_type": "code",
        "colab": {
          "base_uri": "https://localhost:8080/",
          "height": 310
        },
        "outputId": "4c1498e3-4fe9-413b-ec4d-9759cfd2d5c4"
      },
      "source": [
        "plot_graphs(lm_history, lm_performance)"
      ],
      "execution_count": 71,
      "outputs": [
        {
          "output_type": "display_data",
          "data": {
            "image/png": "[encoded data removed]",
            "text/plain": [
              "<Figure size 720x288 with 2 Axes>"
            ]
          },
          "metadata": {
            "tags": [],
            "needs_background": "light"
          }
        }
      ]
    },
    {
      "cell_type": "markdown",
      "metadata": {
        "id": "lX9zvfvrAtrj",
        "colab_type": "text"
      },
      "source": [
        "#Convolutional Neural Networks for Emotion Detection!"
      ]
    },
    {
      "cell_type": "markdown",
      "metadata": {
        "id": "jXuDr1x1CZYP",
        "colab_type": "text"
      },
      "source": [
        "###Model Hyperparameters"
      ]
    },
    {
      "cell_type": "code",
      "metadata": {
        "id": "OvPqbBy8Cc1G",
        "colab_type": "code",
        "colab": {}
      },
      "source": [
        "# we'll use the same epochs and batch size as above\n",
        "width, height = int(np.sqrt(X_train.shape[1])), int(np.sqrt(X_train.shape[1]))"
      ],
      "execution_count": 72,
      "outputs": []
    },
    {
      "cell_type": "markdown",
      "metadata": {
        "id": "wTH-IlrL0HVE",
        "colab_type": "text"
      },
      "source": [
        "###Reshape the inputs"
      ]
    },
    {
      "cell_type": "code",
      "metadata": {
        "id": "DwTlyCBk6FOd",
        "colab_type": "code",
        "colab": {
          "base_uri": "https://localhost:8080/",
          "height": 34
        },
        "outputId": "ca3098f5-92ff-40eb-fa5b-555cfdd31feb"
      },
      "source": [
        "# pixels were vectors\n",
        "print(X_train.shape) "
      ],
      "execution_count": 73,
      "outputs": [
        {
          "output_type": "stream",
          "text": [
            "(18000, 2304)\n"
          ],
          "name": "stdout"
        }
      ]
    },
    {
      "cell_type": "code",
      "metadata": {
        "id": "NNSP1-vz6Lnk",
        "colab_type": "code",
        "colab": {
          "base_uri": "https://localhost:8080/",
          "height": 34
        },
        "outputId": "56868520-50a8-430d-de5e-8909f8372130"
      },
      "source": [
        "X_train_cnn = X_train.reshape(len(X_train),height,width)\n",
        "X_test_cnn = X_test.reshape(len(X_test),height,width)\n",
        "\n",
        "# we've converted them to images\n",
        "print(X_train_cnn.shape) "
      ],
      "execution_count": 74,
      "outputs": [
        {
          "output_type": "stream",
          "text": [
            "(18000, 48, 48)\n"
          ],
          "name": "stdout"
        }
      ]
    },
    {
      "cell_type": "code",
      "metadata": {
        "id": "RFP5S57i69o7",
        "colab_type": "code",
        "colab": {
          "base_uri": "https://localhost:8080/",
          "height": 34
        },
        "outputId": "26e88348-ffc4-4db6-a08f-79ebe88d8bf1"
      },
      "source": [
        "# now we add one more dimension for model compatability\n",
        "X_train_cnn = np.expand_dims(X_train_cnn,3)\n",
        "X_test_cnn = np.expand_dims(X_test_cnn,3)\n",
        "\n",
        "print(X_train_cnn.shape)"
      ],
      "execution_count": 75,
      "outputs": [
        {
          "output_type": "stream",
          "text": [
            "(18000, 48, 48, 1)\n"
          ],
          "name": "stdout"
        }
      ]
    },
    {
      "cell_type": "code",
      "metadata": {
        "id": "fnI75Z1yDylH",
        "colab_type": "code",
        "cellView": "both",
        "colab": {}
      },
      "source": [
        "# Change the hyperparameters in the model below \n",
        "\n",
        "# initialize model\n",
        "cnn_model = Sequential()\n",
        "# this conv layer has 64 filters! the input shape needs to be the same dimensions of the image\n",
        "cnn_model.add(Conv2D(64, kernel_size=(3, 3), activation='relu', input_shape=(width, height, 1)))\n",
        "# batch normalization \n",
        "cnn_model.add(BatchNormalization())\n",
        "# max pooling\n",
        "cnn_model.add(MaxPooling2D(pool_size=(2, 2), strides=(2, 2)))\n",
        "# dropout\n",
        "cnn_model.add(Dropout(0.5))\n",
        "\n",
        "# flatten all the outputs between convolutional and dense layers\n",
        "cnn_model.add(Flatten())\n",
        "# add a \"dense layer\" (i.e. the fully connected layers in MLPs) with dropout\n",
        "cnn_model.add(Dense(512, activation='relu'))\n",
        "# output layer\n",
        "cnn_model.add(Dense(n_labels, activation='softmax'))"
      ],
      "execution_count": 76,
      "outputs": []
    },
    {
      "cell_type": "code",
      "metadata": {
        "id": "7BI-tl-evqPC",
        "colab_type": "code",
        "cellView": "both",
        "colab": {}
      },
      "source": [
        "#\n",
        "\n",
        "# pedigogically, it's probably a good idea to not use this model, but it's nice to have in case\n",
        "# comparing the basic model above with transfer learning more clearly motivates that approach\n",
        "\n",
        "cnn_model = Sequential()\n",
        "\n",
        "cnn_model.add(Conv2D(64, kernel_size=(3, 3), activation='relu', input_shape=(width, height, 1), kernel_regularizer=l2(0.01)))\n",
        "cnn_model.add(Conv2D(64, kernel_size=(3, 3), activation='relu', padding='same'))\n",
        "cnn_model.add(BatchNormalization())\n",
        "cnn_model.add(MaxPooling2D(pool_size=(2, 2), strides=(2, 2)))\n",
        "cnn_model.add(Dropout(0.5))\n",
        "\n",
        "cnn_model.add(Conv2D(128, kernel_size=(3, 3), activation='relu', padding='same'))\n",
        "cnn_model.add(BatchNormalization())\n",
        "cnn_model.add(Conv2D(128, kernel_size=(3, 3), activation='relu', padding='same'))\n",
        "cnn_model.add(BatchNormalization())\n",
        "cnn_model.add(MaxPooling2D(pool_size=(2, 2), strides=(2, 2)))\n",
        "cnn_model.add(Dropout(0.5))\n",
        "\n",
        "cnn_model.add(Conv2D(256, kernel_size=(3, 3), activation='relu', padding='same'))\n",
        "cnn_model.add(BatchNormalization())\n",
        "cnn_model.add(Conv2D(256, kernel_size=(3, 3), activation='relu', padding='same'))\n",
        "cnn_model.add(BatchNormalization())\n",
        "cnn_model.add(MaxPooling2D(pool_size=(2, 2), strides=(2, 2)))\n",
        "cnn_model.add(Dropout(0.5))\n",
        "\n",
        "cnn_model.add(Conv2D(512, kernel_size=(3, 3), activation='relu', padding='same'))\n",
        "cnn_model.add(BatchNormalization())\n",
        "cnn_model.add(Conv2D(512, kernel_size=(3, 3), activation='relu', padding='same'))\n",
        "cnn_model.add(BatchNormalization())\n",
        "cnn_model.add(MaxPooling2D(pool_size=(2, 2), strides=(2, 2)))\n",
        "cnn_model.add(Dropout(0.5))\n",
        "\n",
        "cnn_model.add(Flatten())\n",
        "\n",
        "cnn_model.add(Dense(512, activation='relu'))\n",
        "cnn_model.add(Dropout(0.4))\n",
        "cnn_model.add(Dense(256, activation='relu'))\n",
        "cnn_model.add(Dropout(0.4))\n",
        "cnn_model.add(Dense(128, activation='relu'))\n",
        "cnn_model.add(Dropout(0.5))\n",
        "cnn_model.add(Dense(n_labels, activation='softmax'))\n"
      ],
      "execution_count": 77,
      "outputs": []
    },
    {
      "cell_type": "code",
      "metadata": {
        "id": "YqirnWL8wDGR",
        "colab_type": "code",
        "colab": {
          "base_uri": "https://localhost:8080/",
          "height": 1000
        },
        "outputId": "7533b523-dfa2-4e65-8ac4-60dbdb29f149"
      },
      "source": [
        "#Saves the Best Model Based on Val Loss\n",
        "checkpoint = ModelCheckpoint('best_cnn_model.h5', verbose=1, monitor='val_loss',save_best_only=True, mode='auto')  \n",
        "\n",
        "# compliling the model with adam optimixer and categorical crossentropy loss\n",
        "cnn_model.compile(loss=categorical_crossentropy, optimizer=Adam(lr=0.001, beta_1=0.9, beta_2=0.999), metrics=['acc'])\n",
        "\n",
        "# training the model\n",
        "cnn_history = cnn_model.fit(X_train_cnn, y_train, batch_size=batch_size, epochs=epochs, verbose=1, \n",
        "                            callbacks=[checkpoint], validation_data=(X_test_cnn, y_test), shuffle=True)"
      ],
      "execution_count": 78,
      "outputs": [
        {
          "output_type": "stream",
          "text": [
            "Train on 18000 samples, validate on 2000 samples\n",
            "Epoch 1/20\n",
            "18000/18000 [==============================] - 13s 742us/step - loss: 1.8075 - acc: 0.2259 - val_loss: 1.6239 - val_acc: 0.2425\n",
            "\n",
            "Epoch 00001: val_loss improved from inf to 1.62392, saving model to best_cnn_model.h5\n",
            "Epoch 2/20\n",
            "18000/18000 [==============================] - 12s 658us/step - loss: 1.5969 - acc: 0.2652 - val_loss: 1.5736 - val_acc: 0.2715\n",
            "\n",
            "Epoch 00002: val_loss improved from 1.62392 to 1.57358, saving model to best_cnn_model.h5\n",
            "Epoch 3/20\n",
            "18000/18000 [==============================] - 12s 658us/step - loss: 1.5157 - acc: 0.3116 - val_loss: 1.4858 - val_acc: 0.3365\n",
            "\n",
            "Epoch 00003: val_loss improved from 1.57358 to 1.48583, saving model to best_cnn_model.h5\n",
            "Epoch 4/20\n",
            "18000/18000 [==============================] - 12s 657us/step - loss: 1.4487 - acc: 0.3405 - val_loss: 1.3973 - val_acc: 0.3570\n",
            "\n",
            "Epoch 00004: val_loss improved from 1.48583 to 1.39729, saving model to best_cnn_model.h5\n",
            "Epoch 5/20\n",
            "18000/18000 [==============================] - 12s 657us/step - loss: 1.3873 - acc: 0.3892 - val_loss: 1.3230 - val_acc: 0.4105\n",
            "\n",
            "Epoch 00005: val_loss improved from 1.39729 to 1.32295, saving model to best_cnn_model.h5\n",
            "Epoch 6/20\n",
            "18000/18000 [==============================] - 12s 659us/step - loss: 1.3157 - acc: 0.4332 - val_loss: 1.2479 - val_acc: 0.4565\n",
            "\n",
            "Epoch 00006: val_loss improved from 1.32295 to 1.24795, saving model to best_cnn_model.h5\n",
            "Epoch 7/20\n",
            "18000/18000 [==============================] - 12s 661us/step - loss: 1.2616 - acc: 0.4553 - val_loss: 1.1672 - val_acc: 0.4945\n",
            "\n",
            "Epoch 00007: val_loss improved from 1.24795 to 1.16724, saving model to best_cnn_model.h5\n",
            "Epoch 8/20\n",
            "18000/18000 [==============================] - 12s 660us/step - loss: 1.2130 - acc: 0.4786 - val_loss: 1.1441 - val_acc: 0.5065\n",
            "\n",
            "Epoch 00008: val_loss improved from 1.16724 to 1.14411, saving model to best_cnn_model.h5\n",
            "Epoch 9/20\n",
            "18000/18000 [==============================] - 12s 661us/step - loss: 1.1643 - acc: 0.5091 - val_loss: 1.1005 - val_acc: 0.5350\n",
            "\n",
            "Epoch 00009: val_loss improved from 1.14411 to 1.10052, saving model to best_cnn_model.h5\n",
            "Epoch 10/20\n",
            "18000/18000 [==============================] - 12s 664us/step - loss: 1.1350 - acc: 0.5356 - val_loss: 1.0400 - val_acc: 0.5670\n",
            "\n",
            "Epoch 00010: val_loss improved from 1.10052 to 1.04003, saving model to best_cnn_model.h5\n",
            "Epoch 11/20\n",
            "18000/18000 [==============================] - 12s 659us/step - loss: 1.0893 - acc: 0.5566 - val_loss: 1.0189 - val_acc: 0.5645\n",
            "\n",
            "Epoch 00011: val_loss improved from 1.04003 to 1.01887, saving model to best_cnn_model.h5\n",
            "Epoch 12/20\n",
            "18000/18000 [==============================] - 12s 659us/step - loss: 1.0681 - acc: 0.5628 - val_loss: 1.0440 - val_acc: 0.5650\n",
            "\n",
            "Epoch 00012: val_loss did not improve from 1.01887\n",
            "Epoch 13/20\n",
            "18000/18000 [==============================] - 12s 657us/step - loss: 1.0362 - acc: 0.5796 - val_loss: 0.9836 - val_acc: 0.6105\n",
            "\n",
            "Epoch 00013: val_loss improved from 1.01887 to 0.98365, saving model to best_cnn_model.h5\n",
            "Epoch 14/20\n",
            "18000/18000 [==============================] - 12s 660us/step - loss: 1.0092 - acc: 0.5953 - val_loss: 0.9804 - val_acc: 0.6275\n",
            "\n",
            "Epoch 00014: val_loss improved from 0.98365 to 0.98043, saving model to best_cnn_model.h5\n",
            "Epoch 15/20\n",
            "18000/18000 [==============================] - 12s 660us/step - loss: 0.9809 - acc: 0.6099 - val_loss: 0.9534 - val_acc: 0.6335\n",
            "\n",
            "Epoch 00015: val_loss improved from 0.98043 to 0.95337, saving model to best_cnn_model.h5\n",
            "Epoch 16/20\n",
            "18000/18000 [==============================] - 12s 657us/step - loss: 0.9712 - acc: 0.6212 - val_loss: 1.0084 - val_acc: 0.6260\n",
            "\n",
            "Epoch 00016: val_loss did not improve from 0.95337\n",
            "Epoch 17/20\n",
            "18000/18000 [==============================] - 12s 657us/step - loss: 0.9452 - acc: 0.6388 - val_loss: 0.9594 - val_acc: 0.6440\n",
            "\n",
            "Epoch 00017: val_loss did not improve from 0.95337\n",
            "Epoch 18/20\n",
            "18000/18000 [==============================] - 12s 657us/step - loss: 0.9216 - acc: 0.6477 - val_loss: 0.9206 - val_acc: 0.6600\n",
            "\n",
            "Epoch 00018: val_loss improved from 0.95337 to 0.92061, saving model to best_cnn_model.h5\n",
            "Epoch 19/20\n",
            "18000/18000 [==============================] - 12s 659us/step - loss: 0.9107 - acc: 0.6565 - val_loss: 0.9190 - val_acc: 0.6575\n",
            "\n",
            "Epoch 00019: val_loss improved from 0.92061 to 0.91898, saving model to best_cnn_model.h5\n",
            "Epoch 20/20\n",
            "18000/18000 [==============================] - 12s 664us/step - loss: 0.8808 - acc: 0.6681 - val_loss: 0.9153 - val_acc: 0.6560\n",
            "\n",
            "Epoch 00020: val_loss improved from 0.91898 to 0.91531, saving model to best_cnn_model.h5\n"
          ],
          "name": "stdout"
        }
      ]
    },
    {
      "cell_type": "markdown",
      "metadata": {
        "id": "wXprpaHpxVb-",
        "colab_type": "text"
      },
      "source": [
        "###Evaluate the model"
      ]
    },
    {
      "cell_type": "code",
      "metadata": {
        "id": "JvCbnwZ_CBYv",
        "colab_type": "code",
        "colab": {
          "base_uri": "https://localhost:8080/",
          "height": 34
        },
        "outputId": "91ae2708-f07d-45a8-d1b4-6de848fb2221"
      },
      "source": [
        "# YOUR CODE HERE\n",
        "cnn_performance = cnn_model.evaluate(X_test_cnn, y_test, batch_size=64)"
      ],
      "execution_count": 79,
      "outputs": [
        {
          "output_type": "stream",
          "text": [
            "2000/2000 [==============================] - 0s 212us/step\n"
          ],
          "name": "stdout"
        }
      ]
    },
    {
      "cell_type": "markdown",
      "metadata": {
        "id": "cDmHi_05BKnr",
        "colab_type": "text"
      },
      "source": [
        "###Plot Accuracy and Loss"
      ]
    },
    {
      "cell_type": "code",
      "metadata": {
        "id": "YdRZz5w2ixwO",
        "colab_type": "code",
        "colab": {
          "base_uri": "https://localhost:8080/",
          "height": 310
        },
        "outputId": "63027d5a-7a80-4ba5-9e94-98ee4164b31e"
      },
      "source": [
        "# YOUR CODE HERE \n",
        "plot_graphs(cnn_history, cnn_performance)"
      ],
      "execution_count": 80,
      "outputs": [
        {
          "output_type": "display_data",
          "data": {
            "image/png": "[encoded data removed]",
            "text/plain": [
              "<Figure size 720x288 with 2 Axes>"
            ]
          },
          "metadata": {
            "tags": [],
            "needs_background": "light"
          }
        }
      ]
    },
    {
      "cell_type": "markdown",
      "metadata": {
        "id": "_eqKTSlRmEGF",
        "colab_type": "text"
      },
      "source": [
        "#Transfer Learning"
      ]
    },
    {
      "cell_type": "code",
      "metadata": {
        "id": "OPpE58jJmIdY",
        "colab_type": "code",
        "colab": {
          "base_uri": "https://localhost:8080/",
          "height": 1000
        },
        "outputId": "bf391b6e-c2dc-4dcb-c41d-d83947e1355e"
      },
      "source": [
        "#@title Run this to build your transfer learning model { display-mode: \"form\" }\n",
        "\n",
        "import keras\n",
        "from keras.models import Sequential\n",
        "from keras.layers import Activation, MaxPooling2D, Dropout, Flatten, Reshape, Dense, Conv2D, GlobalAveragePooling2D\n",
        "from keras.wrappers.scikit_learn import KerasClassifier\n",
        "import keras.optimizers as optimizers\n",
        "from keras.applications.vgg16 import VGG16\n",
        "\n",
        "# load the vgg network that is an 'expert' at 'imagenet' but do not include the FC layers\n",
        "vgg_expert = VGG16(weights = 'imagenet', include_top = False, input_shape = (48, 48, 3))\n",
        "\n",
        "# we add the first 12 layers of vgg to our own model vgg_model\n",
        "vgg_model = Sequential()\n",
        "vgg_model.add(vgg_expert)\n",
        "\n",
        "# and then add our own layers on top of it\n",
        "vgg_model.add(GlobalAveragePooling2D())\n",
        "vgg_model.add(Dense(1024, activation = 'relu'))\n",
        "vgg_model.add(Dropout(0.3))\n",
        "vgg_model.add(Dense(512, activation = 'relu'))\n",
        "vgg_model.add(Dropout(0.3))\n",
        "vgg_model.add(Dense(5, activation = 'sigmoid'))\n",
        "\n",
        "# finally, we build the vgg model and turn it on so we can use it!\n",
        "vgg_model.compile(loss = 'categorical_crossentropy', \n",
        "          optimizer = optimizers.SGD(lr=1e-4, momentum=0.95), \n",
        "          metrics=['acc'])\n",
        "\n",
        "X_TRAIN = np.array([np.transpose(np.array([X_train_cnn[ix].squeeze() for i in range(3)]), (1,2,0)) for ix in range(len(X_train))])\n",
        "X_TEST = np.array([np.transpose(np.array([X_test_cnn[ix].squeeze() for i in range(3)]), (1,2,0)) for ix in range(len(X_test))])\n",
        "\n",
        "#training the model\n",
        "vgg_history = vgg_model.fit(X_TRAIN, y_train,\n",
        "          batch_size=batch_size,\n",
        "          epochs=epochs,\n",
        "          verbose=1,\n",
        "          callbacks=[checkpoint],\n",
        "          validation_data=(X_TEST, y_test),\n",
        "          shuffle=True)"
      ],
      "execution_count": 82,
      "outputs": [
        {
          "output_type": "stream",
          "text": [
            "Train on 18000 samples, validate on 2000 samples\n",
            "Epoch 1/20\n",
            "18000/18000 [==============================] - 11s 628us/step - loss: 1.5517 - acc: 0.2971 - val_loss: 1.3797 - val_acc: 0.4330\n",
            "\n",
            "Epoch 00001: val_loss did not improve from 0.91531\n",
            "Epoch 2/20\n",
            "18000/18000 [==============================] - 11s 608us/step - loss: 1.3408 - acc: 0.4261 - val_loss: 1.2245 - val_acc: 0.5095\n",
            "\n",
            "Epoch 00002: val_loss did not improve from 0.91531\n",
            "Epoch 3/20\n",
            "18000/18000 [==============================] - 11s 610us/step - loss: 1.2106 - acc: 0.5046 - val_loss: 1.0934 - val_acc: 0.5630\n",
            "\n",
            "Epoch 00003: val_loss did not improve from 0.91531\n",
            "Epoch 4/20\n",
            "18000/18000 [==============================] - 11s 608us/step - loss: 1.0955 - acc: 0.5576 - val_loss: 1.0264 - val_acc: 0.5830\n",
            "\n",
            "Epoch 00004: val_loss did not improve from 0.91531\n",
            "Epoch 5/20\n",
            "18000/18000 [==============================] - 11s 611us/step - loss: 1.0302 - acc: 0.5847 - val_loss: 0.9910 - val_acc: 0.6045\n",
            "\n",
            "Epoch 00005: val_loss did not improve from 0.91531\n",
            "Epoch 6/20\n",
            "18000/18000 [==============================] - 11s 612us/step - loss: 0.9811 - acc: 0.6084 - val_loss: 0.9900 - val_acc: 0.6100\n",
            "\n",
            "Epoch 00006: val_loss did not improve from 0.91531\n",
            "Epoch 7/20\n",
            "18000/18000 [==============================] - 11s 611us/step - loss: 0.9406 - acc: 0.6249 - val_loss: 0.9378 - val_acc: 0.6255\n",
            "\n",
            "Epoch 00007: val_loss did not improve from 0.91531\n",
            "Epoch 8/20\n",
            "18000/18000 [==============================] - 11s 610us/step - loss: 0.8953 - acc: 0.6436 - val_loss: 0.9122 - val_acc: 0.6345\n",
            "\n",
            "Epoch 00008: val_loss improved from 0.91531 to 0.91221, saving model to best_cnn_model.h5\n",
            "Epoch 9/20\n",
            "18000/18000 [==============================] - 11s 616us/step - loss: 0.8707 - acc: 0.6567 - val_loss: 0.8883 - val_acc: 0.6460\n",
            "\n",
            "Epoch 00009: val_loss improved from 0.91221 to 0.88833, saving model to best_cnn_model.h5\n",
            "Epoch 10/20\n",
            "18000/18000 [==============================] - 11s 610us/step - loss: 0.8466 - acc: 0.6665 - val_loss: 0.8837 - val_acc: 0.6465\n",
            "\n",
            "Epoch 00010: val_loss improved from 0.88833 to 0.88370, saving model to best_cnn_model.h5\n",
            "Epoch 11/20\n",
            "18000/18000 [==============================] - 11s 611us/step - loss: 0.8100 - acc: 0.6812 - val_loss: 0.8991 - val_acc: 0.6360\n",
            "\n",
            "Epoch 00011: val_loss did not improve from 0.88370\n",
            "Epoch 12/20\n",
            "18000/18000 [==============================] - 11s 607us/step - loss: 0.7756 - acc: 0.6966 - val_loss: 0.8843 - val_acc: 0.6500\n",
            "\n",
            "Epoch 00012: val_loss did not improve from 0.88370\n",
            "Epoch 13/20\n",
            "18000/18000 [==============================] - 11s 609us/step - loss: 0.7548 - acc: 0.7093 - val_loss: 0.8612 - val_acc: 0.6695\n",
            "\n",
            "Epoch 00013: val_loss improved from 0.88370 to 0.86119, saving model to best_cnn_model.h5\n",
            "Epoch 14/20\n",
            "18000/18000 [==============================] - 11s 609us/step - loss: 0.7376 - acc: 0.7138 - val_loss: 0.8659 - val_acc: 0.6630\n",
            "\n",
            "Epoch 00014: val_loss did not improve from 0.86119\n",
            "Epoch 15/20\n",
            "18000/18000 [==============================] - 11s 606us/step - loss: 0.6926 - acc: 0.7346 - val_loss: 0.8332 - val_acc: 0.6770\n",
            "\n",
            "Epoch 00015: val_loss improved from 0.86119 to 0.83320, saving model to best_cnn_model.h5\n",
            "Epoch 16/20\n",
            "18000/18000 [==============================] - 11s 608us/step - loss: 0.6708 - acc: 0.7456 - val_loss: 0.9169 - val_acc: 0.6515\n",
            "\n",
            "Epoch 00016: val_loss did not improve from 0.83320\n",
            "Epoch 17/20\n",
            "18000/18000 [==============================] - 11s 606us/step - loss: 0.6539 - acc: 0.7492 - val_loss: 0.8635 - val_acc: 0.6815\n",
            "\n",
            "Epoch 00017: val_loss did not improve from 0.83320\n",
            "Epoch 18/20\n",
            "18000/18000 [==============================] - 11s 606us/step - loss: 0.6151 - acc: 0.7616 - val_loss: 0.8373 - val_acc: 0.6865\n",
            "\n",
            "Epoch 00018: val_loss did not improve from 0.83320\n",
            "Epoch 19/20\n",
            "18000/18000 [==============================] - 11s 607us/step - loss: 0.5882 - acc: 0.7748 - val_loss: 0.8927 - val_acc: 0.6635\n",
            "\n",
            "Epoch 00019: val_loss did not improve from 0.83320\n",
            "Epoch 20/20\n",
            "18000/18000 [==============================] - 11s 607us/step - loss: 0.5549 - acc: 0.7901 - val_loss: 0.8583 - val_acc: 0.6800\n",
            "\n",
            "Epoch 00020: val_loss did not improve from 0.83320\n"
          ],
          "name": "stdout"
        }
      ]
    },
    {
      "cell_type": "markdown",
      "metadata": {
        "id": "rwABV9sHAclF",
        "colab_type": "text"
      },
      "source": [
        "###Evaluate model"
      ]
    },
    {
      "cell_type": "code",
      "metadata": {
        "id": "tVFzVXRHGQxs",
        "colab_type": "code",
        "cellView": "both",
        "colab": {
          "base_uri": "https://localhost:8080/",
          "height": 34
        },
        "outputId": "5a72cae3-1282-45fc-b95a-eea13c74f6e3"
      },
      "source": [
        "vgg_performance = vgg_model.evaluate(X_TEST, y_test, batch_size=64)"
      ],
      "execution_count": 83,
      "outputs": [
        {
          "output_type": "stream",
          "text": [
            "2000/2000 [==============================] - 0s 217us/step\n"
          ],
          "name": "stdout"
        }
      ]
    },
    {
      "cell_type": "markdown",
      "metadata": {
        "id": "EjquMpMmAZEo",
        "colab_type": "text"
      },
      "source": [
        "###Visualize accuracy and loss over training + display best model's performance"
      ]
    },
    {
      "cell_type": "code",
      "metadata": {
        "id": "OflGd8RFsrTX",
        "colab_type": "code",
        "colab": {
          "base_uri": "https://localhost:8080/",
          "height": 310
        },
        "outputId": "f42782ac-f919-45be-cbc7-807bb1af4908"
      },
      "source": [
        "# YOUR CODE HERE\n",
        "plot_graphs(vgg_history, vgg_performance)"
      ],
      "execution_count": 84,
      "outputs": [
        {
          "output_type": "display_data",
          "data": {
            "image/png": "[encoded data removed]",
            "text/plain": [
              "<Figure size 720x288 with 2 Axes>"
            ]
          },
          "metadata": {
            "tags": [],
            "needs_background": "light"
          }
        }
      ]
    },
    {
      "cell_type": "markdown",
      "metadata": {
        "id": "y2qlLKUhfxlw",
        "colab_type": "text"
      },
      "source": [
        "# Determine some reference accuracy scores"
      ]
    },
    {
      "cell_type": "code",
      "metadata": {
        "id": "pom2p1w0a9f0",
        "colab_type": "code",
        "colab": {}
      },
      "source": [
        "from sklearn.neighbors import KNeighborsClassifier\n",
        "\n",
        "# pixel-based knn classification accuracy... this will take a few minutes \n",
        "knn_pixel = KNeighborsClassifier(n_neighbors=3)\n",
        "knn_pixel.fit(X_train, y_train)\n",
        "knn_predictions_pixel = knn_pixel.predict(X_test)\n",
        "knn_accuracy_pixel = np.mean(knn_predictions_pixel.argmax(1) == y_test.argmax(1))\n",
        "\n",
        "# landmark-based knn classification accuracy... this will take a few minutes \n",
        "knn_lm = KNeighborsClassifier(n_neighbors=3)\n",
        "knn_lm.fit(X_train_lm, y_train_lm)\n",
        "knn_predictions_lm = knn_lm.predict(X_test_lm)\n",
        "knn_accuracy_lm = np.mean( knn_predictions_lm.argmax(1) == y_test_lm.argmax(1))\n",
        "\n",
        "# chance accuracy\n",
        "chance_accuracy = 1/n_labels\n",
        "\n",
        "# human accuracy\n",
        "human_accuracy = .65 "
      ],
      "execution_count": 85,
      "outputs": []
    },
    {
      "cell_type": "code",
      "metadata": {
        "id": "ZGeWzybl_Kpi",
        "colab_type": "code",
        "colab": {}
      },
      "source": [
        "def compare_learning(mlp, lm, cnn, vgg, benchmarks): \n",
        "\n",
        "  plt.figure(figsize=[7, 5])  \n",
        "\n",
        "  # summarize history for accuracy\n",
        "\n",
        "  plt.xticks(range(4, epochs+1,5), range(5, epochs+1,5) )\n",
        "  \n",
        "  plt.title('Performance of multiple models across training', y=1.05, fontsize=15)\n",
        "\n",
        "  plt.ylim([.15, .72])\n",
        "\n",
        "  plt.plot(lm.history['val_acc'], linestyle='-', color='purple', )\n",
        "  plt.plot(mlp.history['val_acc'], linestyle='--', color='purple')\n",
        "\n",
        "  plt.plot(vgg.history['val_acc'],color='blue', linestyle='-', linewidth=2)\n",
        "  plt.plot(cnn.history['val_acc'],color='red', linestyle='-', linewidth=2)\n",
        "  \n",
        "  plt.ylabel('Accuracy', fontsize=15)\n",
        "  plt.xlabel('Training Epoch', fontsize=15)\n",
        "\n",
        "\n",
        "  plt.legend(['MLP''$_{landmarks}$', 'MLP''$_{pixels}$', 'CNN''$_{pretrained}$', 'CNN''$_{from.scratch}$'],\n",
        "             framealpha=0, title_fontsize=9,loc=8)\n",
        "\n",
        "  plt.xticks(range(4, epochs+1,5), range(5, epochs+1,5) )\n",
        "  plt.ylim([.11, .72])\n",
        "\n",
        "  for i_benchmark in benchmarks: \n",
        "    plt.scatter(x=epochs, y=references[i_benchmark], color='black', marker='_', s=200) \n",
        "    plt.annotate('%s: %d%%'%( i_benchmark, references[i_benchmark] *100), xy=(epochs+1, references[i_benchmark]-.005), size=10, color='black', ha='left') \n",
        "  plt.annotate('Important References', xy=(epochs+.5, .69), size=10, color='black', ha='left', fontweight='bold') \n",
        "\n",
        "  plt.ylim([.11, .72])\n",
        "  plt.gca().spines['right'].set_color('none')\n",
        "  plt.gca().spines['top'].set_color('none')\n",
        "\n",
        "  plt.show()"
      ],
      "execution_count": 86,
      "outputs": []
    },
    {
      "cell_type": "code",
      "metadata": {
        "id": "TgWZro30q0dt",
        "colab_type": "code",
        "colab": {}
      },
      "source": [
        "references = {'$KNN_{pixel}$ Accuracy': knn_accuracy_pixel, '$KNN_{landmark}$ Accuracy': knn_accuracy_lm, 'Human Accuracy': human_accuracy, 'chance': chance_accuracy}"
      ],
      "execution_count": 87,
      "outputs": []
    },
    {
      "cell_type": "code",
      "metadata": {
        "id": "A-V2HVMOGRZ-",
        "colab_type": "code",
        "colab": {
          "base_uri": "https://localhost:8080/",
          "height": 370
        },
        "outputId": "2a89be9f-18d3-48b0-858e-43adb6286fb0"
      },
      "source": [
        "compare_learning(mlp_history, lm_history, cnn_history, vgg_history, references)"
      ],
      "execution_count": 88,
      "outputs": [
        {
          "output_type": "display_data",
          "data": {
            "image/png": "[encoded data removed]",
            "text/plain": [
              "<Figure size 504x360 with 1 Axes>"
            ]
          },
          "metadata": {
            "tags": [],
            "needs_background": "light"
          }
        }
      ]
    },
    {
      "cell_type": "markdown",
      "metadata": {
        "id": "-kmm2fWDBtfW",
        "colab_type": "text"
      },
      "source": [
        "###How can we explain this pattern of performance across all these models?"
      ]
    }
  ]
}